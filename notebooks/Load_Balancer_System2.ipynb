{
  "nbformat": 4,
  "nbformat_minor": 0,
  "metadata": {
    "colab": {
      "provenance": []
    },
    "kernelspec": {
      "name": "python3",
      "display_name": "Python 3"
    },
    "language_info": {
      "name": "python"
    }
  },
  "cells": [
    {
      "cell_type": "code",
      "execution_count": 1,
      "metadata": {
        "colab": {
          "base_uri": "https://localhost:8080/"
        },
        "id": "Qma1ZXOSkqdq",
        "outputId": "6122dc7a-5e0a-4181-d981-fffebb821bb4"
      },
      "outputs": [
        {
          "output_type": "stream",
          "name": "stdout",
          "text": [
            "Drive already mounted at /content/drive; to attempt to forcibly remount, call drive.mount(\"/content/drive\", force_remount=True).\n"
          ]
        }
      ],
      "source": [
        "from google.colab import drive\n",
        "drive.mount('/content/drive')"
      ]
    },
    {
      "cell_type": "markdown",
      "source": [
        "This dataset is designed for research and analysis of load balancing in distributed systems. It includes key features such as task size, CPU and memory demand, network latency, I/O operations, disk usage, number of connections, and priority level, along with a target variable for classification or optimization. Timestamp data is also provided for temporal analysis. It is suitable for machine learning, simulation studies, and performance optimization research. <br>"
      ],
      "metadata": {
        "id": "ydJwevvQmH6E"
      }
    },
    {
      "cell_type": "markdown",
      "source": [
        "**Columns:** <br>\n",
        "**task_size:** Size of the task (numeric). <br>\n",
        "**cpu_demand:** CPU demand of the task (numeric). <br>\n",
        "**memory_demand:** Memory demand of the task (numeric). <br>\n",
        "**network_latency:** Network latency associated with the task (numeric). <br>\n",
        "**io_operations:** Number of I/O operations (numeric). <br>\n",
        "**disk_usage:** Disk usage for the task (numeric). <br>\n",
        "**num_connections:** Number of active connections for the task (numeric). <br>\n",
        "**priority_level:** Priority level assigned to the task (numeric). <br>\n",
        "**target:**Target label indicating the outcome or category (binary). <br>\n",
        "**timestamp:** Timestamp when the task data was recorded. <br>"
      ],
      "metadata": {
        "id": "w0amoBw8mP7E"
      }
    },
    {
      "cell_type": "code",
      "source": [
        "###!pip install bayesian-optimization"
      ],
      "metadata": {
        "id": "zW9CyLMFleDS"
      },
      "execution_count": 2,
      "outputs": []
    },
    {
      "cell_type": "code",
      "source": [
        "###!pip install keras-tuner"
      ],
      "metadata": {
        "id": "Ujrhn_R7muf1"
      },
      "execution_count": 3,
      "outputs": []
    },
    {
      "cell_type": "code",
      "source": [
        "###!pip uninstall tensorflow\n",
        "####!pip install tensorflow==2.12.0"
      ],
      "metadata": {
        "id": "zKkeDSj6m5CQ"
      },
      "execution_count": 4,
      "outputs": []
    },
    {
      "cell_type": "code",
      "source": [
        "\n",
        "###!pip install keras==2.12.0"
      ],
      "metadata": {
        "id": "ILR0lIyvnjXP"
      },
      "execution_count": 5,
      "outputs": []
    },
    {
      "cell_type": "code",
      "source": [
        "# Import packages\n",
        "import numpy as np\n",
        "import pandas as pd\n",
        "import matplotlib.pyplot as plt\n",
        "import seaborn as sns\n",
        "from sklearn.model_selection import train_test_split\n",
        "from sklearn.model_selection import cross_val_score\n",
        "from math import floor\n",
        "from sklearn.metrics import make_scorer, accuracy_score\n",
        "from bayes_opt import BayesianOptimization\n",
        "from sklearn.model_selection import StratifiedKFold\n",
        "\n",
        "import warnings\n",
        "warnings.filterwarnings('ignore')\n",
        "pd.set_option(\"display.max_columns\", None)"
      ],
      "metadata": {
        "id": "-gMUf690npfY"
      },
      "execution_count": 11,
      "outputs": []
    },
    {
      "cell_type": "code",
      "source": [
        "# Suppressing Warnings\n",
        "import warnings\n",
        "warnings.filterwarnings('ignore')"
      ],
      "metadata": {
        "id": "QhvBnap-nsUQ"
      },
      "execution_count": 12,
      "outputs": []
    },
    {
      "cell_type": "code",
      "source": [
        "# Importing Pandas and NumPy\n",
        "import pandas as pd, numpy as np"
      ],
      "metadata": {
        "id": "9tS90JWAn2Wb"
      },
      "execution_count": 13,
      "outputs": []
    },
    {
      "cell_type": "code",
      "source": [
        "# Importing all datasets\n",
        "LoadBalancerSystem = pd.read_csv(\"/content/Load Balancing Improved.csv\")\n",
        "LoadBalancerSystem.head(4)"
      ],
      "metadata": {
        "colab": {
          "base_uri": "https://localhost:8080/",
          "height": 244
        },
        "id": "1Ze__QKyn4DW",
        "outputId": "432f7a0e-54f6-4fc4-ad11-2a09e8b309d7"
      },
      "execution_count": 14,
      "outputs": [
        {
          "output_type": "execute_result",
          "data": {
            "text/plain": [
              "   task_size  cpu_demand  memory_demand  network_latency  io_operations  \\\n",
              "0  -0.152124    3.750160      -0.981182         0.251507      -0.471993   \n",
              "1   0.724624   -3.978920       2.022732         1.194530      -0.010304   \n",
              "2   4.650228    1.145925       2.641659        -1.899635       1.187132   \n",
              "3  -0.138208   -0.189687      -0.820848        -3.060794      -1.982086   \n",
              "\n",
              "   disk_usage  num_connections  priority_level  target            timestamp  \n",
              "0    1.007026         0.313790        3.050953       1  2023-03-16 03:46:22  \n",
              "1   -2.493867        -0.073875       -1.271258       0  2023-09-02 20:15:54  \n",
              "2    4.283652         0.572666        1.243801       1  2022-02-19 08:48:52  \n",
              "3    3.620598        -0.876702        0.776770       1  2023-12-22 11:58:26  "
            ],
            "text/html": [
              "\n",
              "  <div id=\"df-8b7b7221-a3ef-44c8-a90f-1a37ebf748d9\" class=\"colab-df-container\">\n",
              "    <div>\n",
              "<style scoped>\n",
              "    .dataframe tbody tr th:only-of-type {\n",
              "        vertical-align: middle;\n",
              "    }\n",
              "\n",
              "    .dataframe tbody tr th {\n",
              "        vertical-align: top;\n",
              "    }\n",
              "\n",
              "    .dataframe thead th {\n",
              "        text-align: right;\n",
              "    }\n",
              "</style>\n",
              "<table border=\"1\" class=\"dataframe\">\n",
              "  <thead>\n",
              "    <tr style=\"text-align: right;\">\n",
              "      <th></th>\n",
              "      <th>task_size</th>\n",
              "      <th>cpu_demand</th>\n",
              "      <th>memory_demand</th>\n",
              "      <th>network_latency</th>\n",
              "      <th>io_operations</th>\n",
              "      <th>disk_usage</th>\n",
              "      <th>num_connections</th>\n",
              "      <th>priority_level</th>\n",
              "      <th>target</th>\n",
              "      <th>timestamp</th>\n",
              "    </tr>\n",
              "  </thead>\n",
              "  <tbody>\n",
              "    <tr>\n",
              "      <th>0</th>\n",
              "      <td>-0.152124</td>\n",
              "      <td>3.750160</td>\n",
              "      <td>-0.981182</td>\n",
              "      <td>0.251507</td>\n",
              "      <td>-0.471993</td>\n",
              "      <td>1.007026</td>\n",
              "      <td>0.313790</td>\n",
              "      <td>3.050953</td>\n",
              "      <td>1</td>\n",
              "      <td>2023-03-16 03:46:22</td>\n",
              "    </tr>\n",
              "    <tr>\n",
              "      <th>1</th>\n",
              "      <td>0.724624</td>\n",
              "      <td>-3.978920</td>\n",
              "      <td>2.022732</td>\n",
              "      <td>1.194530</td>\n",
              "      <td>-0.010304</td>\n",
              "      <td>-2.493867</td>\n",
              "      <td>-0.073875</td>\n",
              "      <td>-1.271258</td>\n",
              "      <td>0</td>\n",
              "      <td>2023-09-02 20:15:54</td>\n",
              "    </tr>\n",
              "    <tr>\n",
              "      <th>2</th>\n",
              "      <td>4.650228</td>\n",
              "      <td>1.145925</td>\n",
              "      <td>2.641659</td>\n",
              "      <td>-1.899635</td>\n",
              "      <td>1.187132</td>\n",
              "      <td>4.283652</td>\n",
              "      <td>0.572666</td>\n",
              "      <td>1.243801</td>\n",
              "      <td>1</td>\n",
              "      <td>2022-02-19 08:48:52</td>\n",
              "    </tr>\n",
              "    <tr>\n",
              "      <th>3</th>\n",
              "      <td>-0.138208</td>\n",
              "      <td>-0.189687</td>\n",
              "      <td>-0.820848</td>\n",
              "      <td>-3.060794</td>\n",
              "      <td>-1.982086</td>\n",
              "      <td>3.620598</td>\n",
              "      <td>-0.876702</td>\n",
              "      <td>0.776770</td>\n",
              "      <td>1</td>\n",
              "      <td>2023-12-22 11:58:26</td>\n",
              "    </tr>\n",
              "  </tbody>\n",
              "</table>\n",
              "</div>\n",
              "    <div class=\"colab-df-buttons\">\n",
              "\n",
              "  <div class=\"colab-df-container\">\n",
              "    <button class=\"colab-df-convert\" onclick=\"convertToInteractive('df-8b7b7221-a3ef-44c8-a90f-1a37ebf748d9')\"\n",
              "            title=\"Convert this dataframe to an interactive table.\"\n",
              "            style=\"display:none;\">\n",
              "\n",
              "  <svg xmlns=\"http://www.w3.org/2000/svg\" height=\"24px\" viewBox=\"0 -960 960 960\">\n",
              "    <path d=\"M120-120v-720h720v720H120Zm60-500h600v-160H180v160Zm220 220h160v-160H400v160Zm0 220h160v-160H400v160ZM180-400h160v-160H180v160Zm440 0h160v-160H620v160ZM180-180h160v-160H180v160Zm440 0h160v-160H620v160Z\"/>\n",
              "  </svg>\n",
              "    </button>\n",
              "\n",
              "  <style>\n",
              "    .colab-df-container {\n",
              "      display:flex;\n",
              "      gap: 12px;\n",
              "    }\n",
              "\n",
              "    .colab-df-convert {\n",
              "      background-color: #E8F0FE;\n",
              "      border: none;\n",
              "      border-radius: 50%;\n",
              "      cursor: pointer;\n",
              "      display: none;\n",
              "      fill: #1967D2;\n",
              "      height: 32px;\n",
              "      padding: 0 0 0 0;\n",
              "      width: 32px;\n",
              "    }\n",
              "\n",
              "    .colab-df-convert:hover {\n",
              "      background-color: #E2EBFA;\n",
              "      box-shadow: 0px 1px 2px rgba(60, 64, 67, 0.3), 0px 1px 3px 1px rgba(60, 64, 67, 0.15);\n",
              "      fill: #174EA6;\n",
              "    }\n",
              "\n",
              "    .colab-df-buttons div {\n",
              "      margin-bottom: 4px;\n",
              "    }\n",
              "\n",
              "    [theme=dark] .colab-df-convert {\n",
              "      background-color: #3B4455;\n",
              "      fill: #D2E3FC;\n",
              "    }\n",
              "\n",
              "    [theme=dark] .colab-df-convert:hover {\n",
              "      background-color: #434B5C;\n",
              "      box-shadow: 0px 1px 3px 1px rgba(0, 0, 0, 0.15);\n",
              "      filter: drop-shadow(0px 1px 2px rgba(0, 0, 0, 0.3));\n",
              "      fill: #FFFFFF;\n",
              "    }\n",
              "  </style>\n",
              "\n",
              "    <script>\n",
              "      const buttonEl =\n",
              "        document.querySelector('#df-8b7b7221-a3ef-44c8-a90f-1a37ebf748d9 button.colab-df-convert');\n",
              "      buttonEl.style.display =\n",
              "        google.colab.kernel.accessAllowed ? 'block' : 'none';\n",
              "\n",
              "      async function convertToInteractive(key) {\n",
              "        const element = document.querySelector('#df-8b7b7221-a3ef-44c8-a90f-1a37ebf748d9');\n",
              "        const dataTable =\n",
              "          await google.colab.kernel.invokeFunction('convertToInteractive',\n",
              "                                                    [key], {});\n",
              "        if (!dataTable) return;\n",
              "\n",
              "        const docLinkHtml = 'Like what you see? Visit the ' +\n",
              "          '<a target=\"_blank\" href=https://colab.research.google.com/notebooks/data_table.ipynb>data table notebook</a>'\n",
              "          + ' to learn more about interactive tables.';\n",
              "        element.innerHTML = '';\n",
              "        dataTable['output_type'] = 'display_data';\n",
              "        await google.colab.output.renderOutput(dataTable, element);\n",
              "        const docLink = document.createElement('div');\n",
              "        docLink.innerHTML = docLinkHtml;\n",
              "        element.appendChild(docLink);\n",
              "      }\n",
              "    </script>\n",
              "  </div>\n",
              "\n",
              "\n",
              "<div id=\"df-62a0a91c-d3a5-4994-b616-b4445f9ca4d6\">\n",
              "  <button class=\"colab-df-quickchart\" onclick=\"quickchart('df-62a0a91c-d3a5-4994-b616-b4445f9ca4d6')\"\n",
              "            title=\"Suggest charts\"\n",
              "            style=\"display:none;\">\n",
              "\n",
              "<svg xmlns=\"http://www.w3.org/2000/svg\" height=\"24px\"viewBox=\"0 0 24 24\"\n",
              "     width=\"24px\">\n",
              "    <g>\n",
              "        <path d=\"M19 3H5c-1.1 0-2 .9-2 2v14c0 1.1.9 2 2 2h14c1.1 0 2-.9 2-2V5c0-1.1-.9-2-2-2zM9 17H7v-7h2v7zm4 0h-2V7h2v10zm4 0h-2v-4h2v4z\"/>\n",
              "    </g>\n",
              "</svg>\n",
              "  </button>\n",
              "\n",
              "<style>\n",
              "  .colab-df-quickchart {\n",
              "      --bg-color: #E8F0FE;\n",
              "      --fill-color: #1967D2;\n",
              "      --hover-bg-color: #E2EBFA;\n",
              "      --hover-fill-color: #174EA6;\n",
              "      --disabled-fill-color: #AAA;\n",
              "      --disabled-bg-color: #DDD;\n",
              "  }\n",
              "\n",
              "  [theme=dark] .colab-df-quickchart {\n",
              "      --bg-color: #3B4455;\n",
              "      --fill-color: #D2E3FC;\n",
              "      --hover-bg-color: #434B5C;\n",
              "      --hover-fill-color: #FFFFFF;\n",
              "      --disabled-bg-color: #3B4455;\n",
              "      --disabled-fill-color: #666;\n",
              "  }\n",
              "\n",
              "  .colab-df-quickchart {\n",
              "    background-color: var(--bg-color);\n",
              "    border: none;\n",
              "    border-radius: 50%;\n",
              "    cursor: pointer;\n",
              "    display: none;\n",
              "    fill: var(--fill-color);\n",
              "    height: 32px;\n",
              "    padding: 0;\n",
              "    width: 32px;\n",
              "  }\n",
              "\n",
              "  .colab-df-quickchart:hover {\n",
              "    background-color: var(--hover-bg-color);\n",
              "    box-shadow: 0 1px 2px rgba(60, 64, 67, 0.3), 0 1px 3px 1px rgba(60, 64, 67, 0.15);\n",
              "    fill: var(--button-hover-fill-color);\n",
              "  }\n",
              "\n",
              "  .colab-df-quickchart-complete:disabled,\n",
              "  .colab-df-quickchart-complete:disabled:hover {\n",
              "    background-color: var(--disabled-bg-color);\n",
              "    fill: var(--disabled-fill-color);\n",
              "    box-shadow: none;\n",
              "  }\n",
              "\n",
              "  .colab-df-spinner {\n",
              "    border: 2px solid var(--fill-color);\n",
              "    border-color: transparent;\n",
              "    border-bottom-color: var(--fill-color);\n",
              "    animation:\n",
              "      spin 1s steps(1) infinite;\n",
              "  }\n",
              "\n",
              "  @keyframes spin {\n",
              "    0% {\n",
              "      border-color: transparent;\n",
              "      border-bottom-color: var(--fill-color);\n",
              "      border-left-color: var(--fill-color);\n",
              "    }\n",
              "    20% {\n",
              "      border-color: transparent;\n",
              "      border-left-color: var(--fill-color);\n",
              "      border-top-color: var(--fill-color);\n",
              "    }\n",
              "    30% {\n",
              "      border-color: transparent;\n",
              "      border-left-color: var(--fill-color);\n",
              "      border-top-color: var(--fill-color);\n",
              "      border-right-color: var(--fill-color);\n",
              "    }\n",
              "    40% {\n",
              "      border-color: transparent;\n",
              "      border-right-color: var(--fill-color);\n",
              "      border-top-color: var(--fill-color);\n",
              "    }\n",
              "    60% {\n",
              "      border-color: transparent;\n",
              "      border-right-color: var(--fill-color);\n",
              "    }\n",
              "    80% {\n",
              "      border-color: transparent;\n",
              "      border-right-color: var(--fill-color);\n",
              "      border-bottom-color: var(--fill-color);\n",
              "    }\n",
              "    90% {\n",
              "      border-color: transparent;\n",
              "      border-bottom-color: var(--fill-color);\n",
              "    }\n",
              "  }\n",
              "</style>\n",
              "\n",
              "  <script>\n",
              "    async function quickchart(key) {\n",
              "      const quickchartButtonEl =\n",
              "        document.querySelector('#' + key + ' button');\n",
              "      quickchartButtonEl.disabled = true;  // To prevent multiple clicks.\n",
              "      quickchartButtonEl.classList.add('colab-df-spinner');\n",
              "      try {\n",
              "        const charts = await google.colab.kernel.invokeFunction(\n",
              "            'suggestCharts', [key], {});\n",
              "      } catch (error) {\n",
              "        console.error('Error during call to suggestCharts:', error);\n",
              "      }\n",
              "      quickchartButtonEl.classList.remove('colab-df-spinner');\n",
              "      quickchartButtonEl.classList.add('colab-df-quickchart-complete');\n",
              "    }\n",
              "    (() => {\n",
              "      let quickchartButtonEl =\n",
              "        document.querySelector('#df-62a0a91c-d3a5-4994-b616-b4445f9ca4d6 button');\n",
              "      quickchartButtonEl.style.display =\n",
              "        google.colab.kernel.accessAllowed ? 'block' : 'none';\n",
              "    })();\n",
              "  </script>\n",
              "</div>\n",
              "\n",
              "    </div>\n",
              "  </div>\n"
            ],
            "application/vnd.google.colaboratory.intrinsic+json": {
              "type": "dataframe",
              "variable_name": "LoadBalancerSystem",
              "summary": "{\n  \"name\": \"LoadBalancerSystem\",\n  \"rows\": 10678,\n  \"fields\": [\n    {\n      \"column\": \"task_size\",\n      \"properties\": {\n        \"dtype\": \"number\",\n        \"std\": 1.8595751733777328,\n        \"min\": -7.58707454221949,\n        \"max\": 6.60708525361412,\n        \"num_unique_values\": 10678,\n        \"samples\": [\n          -1.47687976397868,\n          0.74424416213019,\n          -3.12916991433579\n        ],\n        \"semantic_type\": \"\",\n        \"description\": \"\"\n      }\n    },\n    {\n      \"column\": \"cpu_demand\",\n      \"properties\": {\n        \"dtype\": \"number\",\n        \"std\": 1.83180556517109,\n        \"min\": -6.09216895061909,\n        \"max\": 6.32018855301223,\n        \"num_unique_values\": 10678,\n        \"samples\": [\n          0.977943393442888,\n          0.0785844091590873,\n          -0.143504454515598\n        ],\n        \"semantic_type\": \"\",\n        \"description\": \"\"\n      }\n    },\n    {\n      \"column\": \"memory_demand\",\n      \"properties\": {\n        \"dtype\": \"number\",\n        \"std\": 1.9650980810026515,\n        \"min\": -6.98894943034068,\n        \"max\": 6.63853464600004,\n        \"num_unique_values\": 10678,\n        \"samples\": [\n          -1.49282966128831,\n          0.365769464316104,\n          -5.10413924432268\n        ],\n        \"semantic_type\": \"\",\n        \"description\": \"\"\n      }\n    },\n    {\n      \"column\": \"network_latency\",\n      \"properties\": {\n        \"dtype\": \"number\",\n        \"std\": 1.794753412753728,\n        \"min\": -6.71604560962089,\n        \"max\": 5.20700715674275,\n        \"num_unique_values\": 10678,\n        \"samples\": [\n          1.67890817601359,\n          -1.37194074224858,\n          2.03150886364614\n        ],\n        \"semantic_type\": \"\",\n        \"description\": \"\"\n      }\n    },\n    {\n      \"column\": \"io_operations\",\n      \"properties\": {\n        \"dtype\": \"number\",\n        \"std\": 1.3458565787636787,\n        \"min\": -6.45824967514725,\n        \"max\": 3.58389224606334,\n        \"num_unique_values\": 10678,\n        \"samples\": [\n          -1.62928189440918,\n          -2.39534433608967,\n          1.8636596792278\n        ],\n        \"semantic_type\": \"\",\n        \"description\": \"\"\n      }\n    },\n    {\n      \"column\": \"disk_usage\",\n      \"properties\": {\n        \"dtype\": \"number\",\n        \"std\": 3.334242582574142,\n        \"min\": -10.732084653977,\n        \"max\": 11.6717794279294,\n        \"num_unique_values\": 10678,\n        \"samples\": [\n          -1.95871017630139,\n          5.03760107164115,\n          -7.99969112220225\n        ],\n        \"semantic_type\": \"\",\n        \"description\": \"\"\n      }\n    },\n    {\n      \"column\": \"num_connections\",\n      \"properties\": {\n        \"dtype\": \"number\",\n        \"std\": 0.9907977695715552,\n        \"min\": -3.94000837796207,\n        \"max\": 3.76015524857528,\n        \"num_unique_values\": 10678,\n        \"samples\": [\n          -0.0567806356850196,\n          -1.33823428643235,\n          0.473685447540012\n        ],\n        \"semantic_type\": \"\",\n        \"description\": \"\"\n      }\n    },\n    {\n      \"column\": \"priority_level\",\n      \"properties\": {\n        \"dtype\": \"number\",\n        \"std\": 1.910965052998163,\n        \"min\": -6.13752516339681,\n        \"max\": 7.60816645987854,\n        \"num_unique_values\": 10678,\n        \"samples\": [\n          2.25105507280396,\n          -1.44838216502832,\n          0.971941116912927\n        ],\n        \"semantic_type\": \"\",\n        \"description\": \"\"\n      }\n    },\n    {\n      \"column\": \"target\",\n      \"properties\": {\n        \"dtype\": \"number\",\n        \"std\": 0,\n        \"min\": 0,\n        \"max\": 1,\n        \"num_unique_values\": 2,\n        \"samples\": [\n          0,\n          1\n        ],\n        \"semantic_type\": \"\",\n        \"description\": \"\"\n      }\n    },\n    {\n      \"column\": \"timestamp\",\n      \"properties\": {\n        \"dtype\": \"object\",\n        \"num_unique_values\": 10678,\n        \"samples\": [\n          \"2024-02-19 18:17:21\",\n          \"2024-09-20 05:53:22\"\n        ],\n        \"semantic_type\": \"\",\n        \"description\": \"\"\n      }\n    }\n  ]\n}"
            }
          },
          "metadata": {},
          "execution_count": 14
        }
      ]
    },
    {
      "cell_type": "code",
      "source": [
        "from sklearn.model_selection import train_test_split"
      ],
      "metadata": {
        "id": "D6FRLRS3tVrA"
      },
      "execution_count": 15,
      "outputs": []
    },
    {
      "cell_type": "code",
      "source": [
        "train, test = train_test_split(LoadBalancerSystem, test_size=0.2, random_state=1)"
      ],
      "metadata": {
        "id": "2mSwtjzutYsY"
      },
      "execution_count": 16,
      "outputs": []
    },
    {
      "cell_type": "code",
      "source": [
        "print(train.shape, test.shape)"
      ],
      "metadata": {
        "colab": {
          "base_uri": "https://localhost:8080/"
        },
        "id": "og9tWglHtb6o",
        "outputId": "d882e252-1e85-4e69-9a12-c374a88b2606"
      },
      "execution_count": 17,
      "outputs": [
        {
          "output_type": "stream",
          "name": "stdout",
          "text": [
            "(8542, 10) (2136, 10)\n"
          ]
        }
      ]
    },
    {
      "cell_type": "code",
      "source": [
        "print(\"The columns in train data :\", train.columns)\n",
        "print(\"The columns in test data :\", test.columns)"
      ],
      "metadata": {
        "colab": {
          "base_uri": "https://localhost:8080/"
        },
        "id": "bKX5IzDsthUA",
        "outputId": "ae64ca69-f8c5-4f78-e9ac-3ae4968c3300"
      },
      "execution_count": 18,
      "outputs": [
        {
          "output_type": "stream",
          "name": "stdout",
          "text": [
            "The columns in train data : Index(['task_size', 'cpu_demand', 'memory_demand', 'network_latency',\n",
            "       'io_operations', 'disk_usage', 'num_connections', 'priority_level',\n",
            "       'target', 'timestamp'],\n",
            "      dtype='object')\n",
            "The columns in test data : Index(['task_size', 'cpu_demand', 'memory_demand', 'network_latency',\n",
            "       'io_operations', 'disk_usage', 'num_connections', 'priority_level',\n",
            "       'target', 'timestamp'],\n",
            "      dtype='object')\n"
          ]
        }
      ]
    },
    {
      "cell_type": "code",
      "source": [
        "train.to_csv(\"train_load_balancer.csv\")"
      ],
      "metadata": {
        "id": "4M5iHhmft_UU"
      },
      "execution_count": 19,
      "outputs": []
    },
    {
      "cell_type": "code",
      "source": [
        "test.to_csv(\"test_load_balancer.csv\")"
      ],
      "metadata": {
        "id": "6QFxUi2UuD7L"
      },
      "execution_count": 20,
      "outputs": []
    },
    {
      "cell_type": "code",
      "source": [
        "# Importing all datasets\n",
        "train = pd.read_csv(\"/content/train_load_balancer.csv\")\n",
        "train.head(4)"
      ],
      "metadata": {
        "colab": {
          "base_uri": "https://localhost:8080/",
          "height": 351
        },
        "id": "xlJI69q2uIRC",
        "outputId": "55689c01-e91c-4acc-87cd-b267b0d0845b"
      },
      "execution_count": 21,
      "outputs": [
        {
          "output_type": "execute_result",
          "data": {
            "text/plain": [
              "   Unnamed: 0  task_size  cpu_demand  memory_demand  network_latency  \\\n",
              "0        4311  -2.884349   -0.304593       1.428882         0.641865   \n",
              "1        6133   0.163591   -0.054587       0.243658         0.631062   \n",
              "2        2321   1.243694    3.099626       0.301481         0.439303   \n",
              "3        1595  -1.675813    0.516609      -1.972764         1.926940   \n",
              "\n",
              "   io_operations  disk_usage  num_connections  priority_level  target  \\\n",
              "0      -1.265519   -2.042585        -2.151759        2.248828       0   \n",
              "1      -2.349176   -0.106621         0.016042        2.954929       0   \n",
              "2      -3.356344    4.851570        -1.382724        2.085178       1   \n",
              "3      -1.554229   -2.546848         1.107627        1.629831       1   \n",
              "\n",
              "             timestamp  \n",
              "0  2024-04-30 12:47:38  \n",
              "1  2024-09-15 11:42:34  \n",
              "2  2022-10-20 08:26:25  \n",
              "3  2023-10-08 10:31:30  "
            ],
            "text/html": [
              "\n",
              "  <div id=\"df-b7c30ccb-d76b-404a-8700-9d28075db2ed\" class=\"colab-df-container\">\n",
              "    <div>\n",
              "<style scoped>\n",
              "    .dataframe tbody tr th:only-of-type {\n",
              "        vertical-align: middle;\n",
              "    }\n",
              "\n",
              "    .dataframe tbody tr th {\n",
              "        vertical-align: top;\n",
              "    }\n",
              "\n",
              "    .dataframe thead th {\n",
              "        text-align: right;\n",
              "    }\n",
              "</style>\n",
              "<table border=\"1\" class=\"dataframe\">\n",
              "  <thead>\n",
              "    <tr style=\"text-align: right;\">\n",
              "      <th></th>\n",
              "      <th>Unnamed: 0</th>\n",
              "      <th>task_size</th>\n",
              "      <th>cpu_demand</th>\n",
              "      <th>memory_demand</th>\n",
              "      <th>network_latency</th>\n",
              "      <th>io_operations</th>\n",
              "      <th>disk_usage</th>\n",
              "      <th>num_connections</th>\n",
              "      <th>priority_level</th>\n",
              "      <th>target</th>\n",
              "      <th>timestamp</th>\n",
              "    </tr>\n",
              "  </thead>\n",
              "  <tbody>\n",
              "    <tr>\n",
              "      <th>0</th>\n",
              "      <td>4311</td>\n",
              "      <td>-2.884349</td>\n",
              "      <td>-0.304593</td>\n",
              "      <td>1.428882</td>\n",
              "      <td>0.641865</td>\n",
              "      <td>-1.265519</td>\n",
              "      <td>-2.042585</td>\n",
              "      <td>-2.151759</td>\n",
              "      <td>2.248828</td>\n",
              "      <td>0</td>\n",
              "      <td>2024-04-30 12:47:38</td>\n",
              "    </tr>\n",
              "    <tr>\n",
              "      <th>1</th>\n",
              "      <td>6133</td>\n",
              "      <td>0.163591</td>\n",
              "      <td>-0.054587</td>\n",
              "      <td>0.243658</td>\n",
              "      <td>0.631062</td>\n",
              "      <td>-2.349176</td>\n",
              "      <td>-0.106621</td>\n",
              "      <td>0.016042</td>\n",
              "      <td>2.954929</td>\n",
              "      <td>0</td>\n",
              "      <td>2024-09-15 11:42:34</td>\n",
              "    </tr>\n",
              "    <tr>\n",
              "      <th>2</th>\n",
              "      <td>2321</td>\n",
              "      <td>1.243694</td>\n",
              "      <td>3.099626</td>\n",
              "      <td>0.301481</td>\n",
              "      <td>0.439303</td>\n",
              "      <td>-3.356344</td>\n",
              "      <td>4.851570</td>\n",
              "      <td>-1.382724</td>\n",
              "      <td>2.085178</td>\n",
              "      <td>1</td>\n",
              "      <td>2022-10-20 08:26:25</td>\n",
              "    </tr>\n",
              "    <tr>\n",
              "      <th>3</th>\n",
              "      <td>1595</td>\n",
              "      <td>-1.675813</td>\n",
              "      <td>0.516609</td>\n",
              "      <td>-1.972764</td>\n",
              "      <td>1.926940</td>\n",
              "      <td>-1.554229</td>\n",
              "      <td>-2.546848</td>\n",
              "      <td>1.107627</td>\n",
              "      <td>1.629831</td>\n",
              "      <td>1</td>\n",
              "      <td>2023-10-08 10:31:30</td>\n",
              "    </tr>\n",
              "  </tbody>\n",
              "</table>\n",
              "</div>\n",
              "    <div class=\"colab-df-buttons\">\n",
              "\n",
              "  <div class=\"colab-df-container\">\n",
              "    <button class=\"colab-df-convert\" onclick=\"convertToInteractive('df-b7c30ccb-d76b-404a-8700-9d28075db2ed')\"\n",
              "            title=\"Convert this dataframe to an interactive table.\"\n",
              "            style=\"display:none;\">\n",
              "\n",
              "  <svg xmlns=\"http://www.w3.org/2000/svg\" height=\"24px\" viewBox=\"0 -960 960 960\">\n",
              "    <path d=\"M120-120v-720h720v720H120Zm60-500h600v-160H180v160Zm220 220h160v-160H400v160Zm0 220h160v-160H400v160ZM180-400h160v-160H180v160Zm440 0h160v-160H620v160ZM180-180h160v-160H180v160Zm440 0h160v-160H620v160Z\"/>\n",
              "  </svg>\n",
              "    </button>\n",
              "\n",
              "  <style>\n",
              "    .colab-df-container {\n",
              "      display:flex;\n",
              "      gap: 12px;\n",
              "    }\n",
              "\n",
              "    .colab-df-convert {\n",
              "      background-color: #E8F0FE;\n",
              "      border: none;\n",
              "      border-radius: 50%;\n",
              "      cursor: pointer;\n",
              "      display: none;\n",
              "      fill: #1967D2;\n",
              "      height: 32px;\n",
              "      padding: 0 0 0 0;\n",
              "      width: 32px;\n",
              "    }\n",
              "\n",
              "    .colab-df-convert:hover {\n",
              "      background-color: #E2EBFA;\n",
              "      box-shadow: 0px 1px 2px rgba(60, 64, 67, 0.3), 0px 1px 3px 1px rgba(60, 64, 67, 0.15);\n",
              "      fill: #174EA6;\n",
              "    }\n",
              "\n",
              "    .colab-df-buttons div {\n",
              "      margin-bottom: 4px;\n",
              "    }\n",
              "\n",
              "    [theme=dark] .colab-df-convert {\n",
              "      background-color: #3B4455;\n",
              "      fill: #D2E3FC;\n",
              "    }\n",
              "\n",
              "    [theme=dark] .colab-df-convert:hover {\n",
              "      background-color: #434B5C;\n",
              "      box-shadow: 0px 1px 3px 1px rgba(0, 0, 0, 0.15);\n",
              "      filter: drop-shadow(0px 1px 2px rgba(0, 0, 0, 0.3));\n",
              "      fill: #FFFFFF;\n",
              "    }\n",
              "  </style>\n",
              "\n",
              "    <script>\n",
              "      const buttonEl =\n",
              "        document.querySelector('#df-b7c30ccb-d76b-404a-8700-9d28075db2ed button.colab-df-convert');\n",
              "      buttonEl.style.display =\n",
              "        google.colab.kernel.accessAllowed ? 'block' : 'none';\n",
              "\n",
              "      async function convertToInteractive(key) {\n",
              "        const element = document.querySelector('#df-b7c30ccb-d76b-404a-8700-9d28075db2ed');\n",
              "        const dataTable =\n",
              "          await google.colab.kernel.invokeFunction('convertToInteractive',\n",
              "                                                    [key], {});\n",
              "        if (!dataTable) return;\n",
              "\n",
              "        const docLinkHtml = 'Like what you see? Visit the ' +\n",
              "          '<a target=\"_blank\" href=https://colab.research.google.com/notebooks/data_table.ipynb>data table notebook</a>'\n",
              "          + ' to learn more about interactive tables.';\n",
              "        element.innerHTML = '';\n",
              "        dataTable['output_type'] = 'display_data';\n",
              "        await google.colab.output.renderOutput(dataTable, element);\n",
              "        const docLink = document.createElement('div');\n",
              "        docLink.innerHTML = docLinkHtml;\n",
              "        element.appendChild(docLink);\n",
              "      }\n",
              "    </script>\n",
              "  </div>\n",
              "\n",
              "\n",
              "<div id=\"df-6b8f25f0-460f-4a1e-bc00-b15265298ff3\">\n",
              "  <button class=\"colab-df-quickchart\" onclick=\"quickchart('df-6b8f25f0-460f-4a1e-bc00-b15265298ff3')\"\n",
              "            title=\"Suggest charts\"\n",
              "            style=\"display:none;\">\n",
              "\n",
              "<svg xmlns=\"http://www.w3.org/2000/svg\" height=\"24px\"viewBox=\"0 0 24 24\"\n",
              "     width=\"24px\">\n",
              "    <g>\n",
              "        <path d=\"M19 3H5c-1.1 0-2 .9-2 2v14c0 1.1.9 2 2 2h14c1.1 0 2-.9 2-2V5c0-1.1-.9-2-2-2zM9 17H7v-7h2v7zm4 0h-2V7h2v10zm4 0h-2v-4h2v4z\"/>\n",
              "    </g>\n",
              "</svg>\n",
              "  </button>\n",
              "\n",
              "<style>\n",
              "  .colab-df-quickchart {\n",
              "      --bg-color: #E8F0FE;\n",
              "      --fill-color: #1967D2;\n",
              "      --hover-bg-color: #E2EBFA;\n",
              "      --hover-fill-color: #174EA6;\n",
              "      --disabled-fill-color: #AAA;\n",
              "      --disabled-bg-color: #DDD;\n",
              "  }\n",
              "\n",
              "  [theme=dark] .colab-df-quickchart {\n",
              "      --bg-color: #3B4455;\n",
              "      --fill-color: #D2E3FC;\n",
              "      --hover-bg-color: #434B5C;\n",
              "      --hover-fill-color: #FFFFFF;\n",
              "      --disabled-bg-color: #3B4455;\n",
              "      --disabled-fill-color: #666;\n",
              "  }\n",
              "\n",
              "  .colab-df-quickchart {\n",
              "    background-color: var(--bg-color);\n",
              "    border: none;\n",
              "    border-radius: 50%;\n",
              "    cursor: pointer;\n",
              "    display: none;\n",
              "    fill: var(--fill-color);\n",
              "    height: 32px;\n",
              "    padding: 0;\n",
              "    width: 32px;\n",
              "  }\n",
              "\n",
              "  .colab-df-quickchart:hover {\n",
              "    background-color: var(--hover-bg-color);\n",
              "    box-shadow: 0 1px 2px rgba(60, 64, 67, 0.3), 0 1px 3px 1px rgba(60, 64, 67, 0.15);\n",
              "    fill: var(--button-hover-fill-color);\n",
              "  }\n",
              "\n",
              "  .colab-df-quickchart-complete:disabled,\n",
              "  .colab-df-quickchart-complete:disabled:hover {\n",
              "    background-color: var(--disabled-bg-color);\n",
              "    fill: var(--disabled-fill-color);\n",
              "    box-shadow: none;\n",
              "  }\n",
              "\n",
              "  .colab-df-spinner {\n",
              "    border: 2px solid var(--fill-color);\n",
              "    border-color: transparent;\n",
              "    border-bottom-color: var(--fill-color);\n",
              "    animation:\n",
              "      spin 1s steps(1) infinite;\n",
              "  }\n",
              "\n",
              "  @keyframes spin {\n",
              "    0% {\n",
              "      border-color: transparent;\n",
              "      border-bottom-color: var(--fill-color);\n",
              "      border-left-color: var(--fill-color);\n",
              "    }\n",
              "    20% {\n",
              "      border-color: transparent;\n",
              "      border-left-color: var(--fill-color);\n",
              "      border-top-color: var(--fill-color);\n",
              "    }\n",
              "    30% {\n",
              "      border-color: transparent;\n",
              "      border-left-color: var(--fill-color);\n",
              "      border-top-color: var(--fill-color);\n",
              "      border-right-color: var(--fill-color);\n",
              "    }\n",
              "    40% {\n",
              "      border-color: transparent;\n",
              "      border-right-color: var(--fill-color);\n",
              "      border-top-color: var(--fill-color);\n",
              "    }\n",
              "    60% {\n",
              "      border-color: transparent;\n",
              "      border-right-color: var(--fill-color);\n",
              "    }\n",
              "    80% {\n",
              "      border-color: transparent;\n",
              "      border-right-color: var(--fill-color);\n",
              "      border-bottom-color: var(--fill-color);\n",
              "    }\n",
              "    90% {\n",
              "      border-color: transparent;\n",
              "      border-bottom-color: var(--fill-color);\n",
              "    }\n",
              "  }\n",
              "</style>\n",
              "\n",
              "  <script>\n",
              "    async function quickchart(key) {\n",
              "      const quickchartButtonEl =\n",
              "        document.querySelector('#' + key + ' button');\n",
              "      quickchartButtonEl.disabled = true;  // To prevent multiple clicks.\n",
              "      quickchartButtonEl.classList.add('colab-df-spinner');\n",
              "      try {\n",
              "        const charts = await google.colab.kernel.invokeFunction(\n",
              "            'suggestCharts', [key], {});\n",
              "      } catch (error) {\n",
              "        console.error('Error during call to suggestCharts:', error);\n",
              "      }\n",
              "      quickchartButtonEl.classList.remove('colab-df-spinner');\n",
              "      quickchartButtonEl.classList.add('colab-df-quickchart-complete');\n",
              "    }\n",
              "    (() => {\n",
              "      let quickchartButtonEl =\n",
              "        document.querySelector('#df-6b8f25f0-460f-4a1e-bc00-b15265298ff3 button');\n",
              "      quickchartButtonEl.style.display =\n",
              "        google.colab.kernel.accessAllowed ? 'block' : 'none';\n",
              "    })();\n",
              "  </script>\n",
              "</div>\n",
              "\n",
              "    </div>\n",
              "  </div>\n"
            ],
            "application/vnd.google.colaboratory.intrinsic+json": {
              "type": "dataframe",
              "variable_name": "train",
              "summary": "{\n  \"name\": \"train\",\n  \"rows\": 8542,\n  \"fields\": [\n    {\n      \"column\": \"Unnamed: 0\",\n      \"properties\": {\n        \"dtype\": \"number\",\n        \"std\": 3083,\n        \"min\": 0,\n        \"max\": 10677,\n        \"num_unique_values\": 8542,\n        \"samples\": [\n          1195,\n          1438,\n          5229\n        ],\n        \"semantic_type\": \"\",\n        \"description\": \"\"\n      }\n    },\n    {\n      \"column\": \"task_size\",\n      \"properties\": {\n        \"dtype\": \"number\",\n        \"std\": 1.8581640235719956,\n        \"min\": -7.58707454221949,\n        \"max\": 6.60708525361412,\n        \"num_unique_values\": 8542,\n        \"samples\": [\n          -1.2686388657867,\n          2.57096476739899,\n          -0.975091804623604\n        ],\n        \"semantic_type\": \"\",\n        \"description\": \"\"\n      }\n    },\n    {\n      \"column\": \"cpu_demand\",\n      \"properties\": {\n        \"dtype\": \"number\",\n        \"std\": 1.8357523599768464,\n        \"min\": -6.09216895061909,\n        \"max\": 6.32018855301223,\n        \"num_unique_values\": 8542,\n        \"samples\": [\n          0.655136349179405,\n          3.58253704571492,\n          2.59278059844575\n        ],\n        \"semantic_type\": \"\",\n        \"description\": \"\"\n      }\n    },\n    {\n      \"column\": \"memory_demand\",\n      \"properties\": {\n        \"dtype\": \"number\",\n        \"std\": 1.9568595272181635,\n        \"min\": -6.98894943034068,\n        \"max\": 6.63853464600004,\n        \"num_unique_values\": 8542,\n        \"samples\": [\n          -1.49818430650932,\n          -0.637147665965788,\n          -1.29266409511645\n        ],\n        \"semantic_type\": \"\",\n        \"description\": \"\"\n      }\n    },\n    {\n      \"column\": \"network_latency\",\n      \"properties\": {\n        \"dtype\": \"number\",\n        \"std\": 1.7969787139992424,\n        \"min\": -6.24943009924893,\n        \"max\": 5.20700715674275,\n        \"num_unique_values\": 8542,\n        \"samples\": [\n          -0.0126424727335246,\n          1.21549420398591,\n          1.76037785998574\n        ],\n        \"semantic_type\": \"\",\n        \"description\": \"\"\n      }\n    },\n    {\n      \"column\": \"io_operations\",\n      \"properties\": {\n        \"dtype\": \"number\",\n        \"std\": 1.3544131479003636,\n        \"min\": -6.45824967514725,\n        \"max\": 3.58389224606334,\n        \"num_unique_values\": 8542,\n        \"samples\": [\n          -2.15819761533564,\n          -2.19455360337609,\n          -0.632201663283915\n        ],\n        \"semantic_type\": \"\",\n        \"description\": \"\"\n      }\n    },\n    {\n      \"column\": \"disk_usage\",\n      \"properties\": {\n        \"dtype\": \"number\",\n        \"std\": 3.338749626563334,\n        \"min\": -10.732084653977,\n        \"max\": 11.6717794279294,\n        \"num_unique_values\": 8542,\n        \"samples\": [\n          2.3775513621575,\n          5.19723666318379,\n          -1.74430879399264\n        ],\n        \"semantic_type\": \"\",\n        \"description\": \"\"\n      }\n    },\n    {\n      \"column\": \"num_connections\",\n      \"properties\": {\n        \"dtype\": \"number\",\n        \"std\": 0.9952765374460039,\n        \"min\": -3.94000837796207,\n        \"max\": 3.53604807449356,\n        \"num_unique_values\": 8542,\n        \"samples\": [\n          0.25804149128796,\n          0.255342333283364,\n          0.637581561886776\n        ],\n        \"semantic_type\": \"\",\n        \"description\": \"\"\n      }\n    },\n    {\n      \"column\": \"priority_level\",\n      \"properties\": {\n        \"dtype\": \"number\",\n        \"std\": 1.9008049747222813,\n        \"min\": -6.13752516339681,\n        \"max\": 7.60816645987854,\n        \"num_unique_values\": 8542,\n        \"samples\": [\n          -1.61172368449321,\n          -0.129468962613535,\n          3.02029008420474\n        ],\n        \"semantic_type\": \"\",\n        \"description\": \"\"\n      }\n    },\n    {\n      \"column\": \"target\",\n      \"properties\": {\n        \"dtype\": \"number\",\n        \"std\": 0,\n        \"min\": 0,\n        \"max\": 1,\n        \"num_unique_values\": 2,\n        \"samples\": [\n          1,\n          0\n        ],\n        \"semantic_type\": \"\",\n        \"description\": \"\"\n      }\n    },\n    {\n      \"column\": \"timestamp\",\n      \"properties\": {\n        \"dtype\": \"object\",\n        \"num_unique_values\": 8542,\n        \"samples\": [\n          \"2022-12-22 08:50:40\",\n          \"2024-07-13 12:33:03\"\n        ],\n        \"semantic_type\": \"\",\n        \"description\": \"\"\n      }\n    }\n  ]\n}"
            }
          },
          "metadata": {},
          "execution_count": 21
        }
      ]
    },
    {
      "cell_type": "code",
      "source": [
        "# Importing all datasets\n",
        "test = pd.read_csv(\"/content/test_load_balancer.csv\")\n",
        "test.head(4)"
      ],
      "metadata": {
        "colab": {
          "base_uri": "https://localhost:8080/",
          "height": 351
        },
        "id": "0hqeim2wuQ7T",
        "outputId": "83aa129a-0788-407f-d6e6-14e65daefc91"
      },
      "execution_count": 22,
      "outputs": [
        {
          "output_type": "execute_result",
          "data": {
            "text/plain": [
              "   Unnamed: 0  task_size  cpu_demand  memory_demand  network_latency  \\\n",
              "0        6138   0.982596    2.560753       0.309671         0.484964   \n",
              "1        9271  -0.291851    1.488813       1.230143         1.814476   \n",
              "2        4052   0.371047   -0.104333       2.951606        -0.270315   \n",
              "3        3068  -0.619218   -0.772362       0.013539        -1.840224   \n",
              "\n",
              "   io_operations  disk_usage  num_connections  priority_level  target  \\\n",
              "0      -2.768847    4.956329         0.780822        0.050808       1   \n",
              "1      -2.828979    2.481521        -0.649220        0.193506       1   \n",
              "2       0.201554    1.474998         0.502292       -0.247073       1   \n",
              "3      -1.292816    3.058381         2.911729       -1.782623       0   \n",
              "\n",
              "             timestamp  \n",
              "0  2024-09-22 00:03:32  \n",
              "1  2022-04-04 12:13:28  \n",
              "2  2024-07-19 04:29:14  \n",
              "3  2022-08-18 00:11:56  "
            ],
            "text/html": [
              "\n",
              "  <div id=\"df-1a6eadf7-1fad-4dce-9470-15c7bf65f737\" class=\"colab-df-container\">\n",
              "    <div>\n",
              "<style scoped>\n",
              "    .dataframe tbody tr th:only-of-type {\n",
              "        vertical-align: middle;\n",
              "    }\n",
              "\n",
              "    .dataframe tbody tr th {\n",
              "        vertical-align: top;\n",
              "    }\n",
              "\n",
              "    .dataframe thead th {\n",
              "        text-align: right;\n",
              "    }\n",
              "</style>\n",
              "<table border=\"1\" class=\"dataframe\">\n",
              "  <thead>\n",
              "    <tr style=\"text-align: right;\">\n",
              "      <th></th>\n",
              "      <th>Unnamed: 0</th>\n",
              "      <th>task_size</th>\n",
              "      <th>cpu_demand</th>\n",
              "      <th>memory_demand</th>\n",
              "      <th>network_latency</th>\n",
              "      <th>io_operations</th>\n",
              "      <th>disk_usage</th>\n",
              "      <th>num_connections</th>\n",
              "      <th>priority_level</th>\n",
              "      <th>target</th>\n",
              "      <th>timestamp</th>\n",
              "    </tr>\n",
              "  </thead>\n",
              "  <tbody>\n",
              "    <tr>\n",
              "      <th>0</th>\n",
              "      <td>6138</td>\n",
              "      <td>0.982596</td>\n",
              "      <td>2.560753</td>\n",
              "      <td>0.309671</td>\n",
              "      <td>0.484964</td>\n",
              "      <td>-2.768847</td>\n",
              "      <td>4.956329</td>\n",
              "      <td>0.780822</td>\n",
              "      <td>0.050808</td>\n",
              "      <td>1</td>\n",
              "      <td>2024-09-22 00:03:32</td>\n",
              "    </tr>\n",
              "    <tr>\n",
              "      <th>1</th>\n",
              "      <td>9271</td>\n",
              "      <td>-0.291851</td>\n",
              "      <td>1.488813</td>\n",
              "      <td>1.230143</td>\n",
              "      <td>1.814476</td>\n",
              "      <td>-2.828979</td>\n",
              "      <td>2.481521</td>\n",
              "      <td>-0.649220</td>\n",
              "      <td>0.193506</td>\n",
              "      <td>1</td>\n",
              "      <td>2022-04-04 12:13:28</td>\n",
              "    </tr>\n",
              "    <tr>\n",
              "      <th>2</th>\n",
              "      <td>4052</td>\n",
              "      <td>0.371047</td>\n",
              "      <td>-0.104333</td>\n",
              "      <td>2.951606</td>\n",
              "      <td>-0.270315</td>\n",
              "      <td>0.201554</td>\n",
              "      <td>1.474998</td>\n",
              "      <td>0.502292</td>\n",
              "      <td>-0.247073</td>\n",
              "      <td>1</td>\n",
              "      <td>2024-07-19 04:29:14</td>\n",
              "    </tr>\n",
              "    <tr>\n",
              "      <th>3</th>\n",
              "      <td>3068</td>\n",
              "      <td>-0.619218</td>\n",
              "      <td>-0.772362</td>\n",
              "      <td>0.013539</td>\n",
              "      <td>-1.840224</td>\n",
              "      <td>-1.292816</td>\n",
              "      <td>3.058381</td>\n",
              "      <td>2.911729</td>\n",
              "      <td>-1.782623</td>\n",
              "      <td>0</td>\n",
              "      <td>2022-08-18 00:11:56</td>\n",
              "    </tr>\n",
              "  </tbody>\n",
              "</table>\n",
              "</div>\n",
              "    <div class=\"colab-df-buttons\">\n",
              "\n",
              "  <div class=\"colab-df-container\">\n",
              "    <button class=\"colab-df-convert\" onclick=\"convertToInteractive('df-1a6eadf7-1fad-4dce-9470-15c7bf65f737')\"\n",
              "            title=\"Convert this dataframe to an interactive table.\"\n",
              "            style=\"display:none;\">\n",
              "\n",
              "  <svg xmlns=\"http://www.w3.org/2000/svg\" height=\"24px\" viewBox=\"0 -960 960 960\">\n",
              "    <path d=\"M120-120v-720h720v720H120Zm60-500h600v-160H180v160Zm220 220h160v-160H400v160Zm0 220h160v-160H400v160ZM180-400h160v-160H180v160Zm440 0h160v-160H620v160ZM180-180h160v-160H180v160Zm440 0h160v-160H620v160Z\"/>\n",
              "  </svg>\n",
              "    </button>\n",
              "\n",
              "  <style>\n",
              "    .colab-df-container {\n",
              "      display:flex;\n",
              "      gap: 12px;\n",
              "    }\n",
              "\n",
              "    .colab-df-convert {\n",
              "      background-color: #E8F0FE;\n",
              "      border: none;\n",
              "      border-radius: 50%;\n",
              "      cursor: pointer;\n",
              "      display: none;\n",
              "      fill: #1967D2;\n",
              "      height: 32px;\n",
              "      padding: 0 0 0 0;\n",
              "      width: 32px;\n",
              "    }\n",
              "\n",
              "    .colab-df-convert:hover {\n",
              "      background-color: #E2EBFA;\n",
              "      box-shadow: 0px 1px 2px rgba(60, 64, 67, 0.3), 0px 1px 3px 1px rgba(60, 64, 67, 0.15);\n",
              "      fill: #174EA6;\n",
              "    }\n",
              "\n",
              "    .colab-df-buttons div {\n",
              "      margin-bottom: 4px;\n",
              "    }\n",
              "\n",
              "    [theme=dark] .colab-df-convert {\n",
              "      background-color: #3B4455;\n",
              "      fill: #D2E3FC;\n",
              "    }\n",
              "\n",
              "    [theme=dark] .colab-df-convert:hover {\n",
              "      background-color: #434B5C;\n",
              "      box-shadow: 0px 1px 3px 1px rgba(0, 0, 0, 0.15);\n",
              "      filter: drop-shadow(0px 1px 2px rgba(0, 0, 0, 0.3));\n",
              "      fill: #FFFFFF;\n",
              "    }\n",
              "  </style>\n",
              "\n",
              "    <script>\n",
              "      const buttonEl =\n",
              "        document.querySelector('#df-1a6eadf7-1fad-4dce-9470-15c7bf65f737 button.colab-df-convert');\n",
              "      buttonEl.style.display =\n",
              "        google.colab.kernel.accessAllowed ? 'block' : 'none';\n",
              "\n",
              "      async function convertToInteractive(key) {\n",
              "        const element = document.querySelector('#df-1a6eadf7-1fad-4dce-9470-15c7bf65f737');\n",
              "        const dataTable =\n",
              "          await google.colab.kernel.invokeFunction('convertToInteractive',\n",
              "                                                    [key], {});\n",
              "        if (!dataTable) return;\n",
              "\n",
              "        const docLinkHtml = 'Like what you see? Visit the ' +\n",
              "          '<a target=\"_blank\" href=https://colab.research.google.com/notebooks/data_table.ipynb>data table notebook</a>'\n",
              "          + ' to learn more about interactive tables.';\n",
              "        element.innerHTML = '';\n",
              "        dataTable['output_type'] = 'display_data';\n",
              "        await google.colab.output.renderOutput(dataTable, element);\n",
              "        const docLink = document.createElement('div');\n",
              "        docLink.innerHTML = docLinkHtml;\n",
              "        element.appendChild(docLink);\n",
              "      }\n",
              "    </script>\n",
              "  </div>\n",
              "\n",
              "\n",
              "<div id=\"df-63fce4e6-1f9c-4cc7-9915-89c700f4b1da\">\n",
              "  <button class=\"colab-df-quickchart\" onclick=\"quickchart('df-63fce4e6-1f9c-4cc7-9915-89c700f4b1da')\"\n",
              "            title=\"Suggest charts\"\n",
              "            style=\"display:none;\">\n",
              "\n",
              "<svg xmlns=\"http://www.w3.org/2000/svg\" height=\"24px\"viewBox=\"0 0 24 24\"\n",
              "     width=\"24px\">\n",
              "    <g>\n",
              "        <path d=\"M19 3H5c-1.1 0-2 .9-2 2v14c0 1.1.9 2 2 2h14c1.1 0 2-.9 2-2V5c0-1.1-.9-2-2-2zM9 17H7v-7h2v7zm4 0h-2V7h2v10zm4 0h-2v-4h2v4z\"/>\n",
              "    </g>\n",
              "</svg>\n",
              "  </button>\n",
              "\n",
              "<style>\n",
              "  .colab-df-quickchart {\n",
              "      --bg-color: #E8F0FE;\n",
              "      --fill-color: #1967D2;\n",
              "      --hover-bg-color: #E2EBFA;\n",
              "      --hover-fill-color: #174EA6;\n",
              "      --disabled-fill-color: #AAA;\n",
              "      --disabled-bg-color: #DDD;\n",
              "  }\n",
              "\n",
              "  [theme=dark] .colab-df-quickchart {\n",
              "      --bg-color: #3B4455;\n",
              "      --fill-color: #D2E3FC;\n",
              "      --hover-bg-color: #434B5C;\n",
              "      --hover-fill-color: #FFFFFF;\n",
              "      --disabled-bg-color: #3B4455;\n",
              "      --disabled-fill-color: #666;\n",
              "  }\n",
              "\n",
              "  .colab-df-quickchart {\n",
              "    background-color: var(--bg-color);\n",
              "    border: none;\n",
              "    border-radius: 50%;\n",
              "    cursor: pointer;\n",
              "    display: none;\n",
              "    fill: var(--fill-color);\n",
              "    height: 32px;\n",
              "    padding: 0;\n",
              "    width: 32px;\n",
              "  }\n",
              "\n",
              "  .colab-df-quickchart:hover {\n",
              "    background-color: var(--hover-bg-color);\n",
              "    box-shadow: 0 1px 2px rgba(60, 64, 67, 0.3), 0 1px 3px 1px rgba(60, 64, 67, 0.15);\n",
              "    fill: var(--button-hover-fill-color);\n",
              "  }\n",
              "\n",
              "  .colab-df-quickchart-complete:disabled,\n",
              "  .colab-df-quickchart-complete:disabled:hover {\n",
              "    background-color: var(--disabled-bg-color);\n",
              "    fill: var(--disabled-fill-color);\n",
              "    box-shadow: none;\n",
              "  }\n",
              "\n",
              "  .colab-df-spinner {\n",
              "    border: 2px solid var(--fill-color);\n",
              "    border-color: transparent;\n",
              "    border-bottom-color: var(--fill-color);\n",
              "    animation:\n",
              "      spin 1s steps(1) infinite;\n",
              "  }\n",
              "\n",
              "  @keyframes spin {\n",
              "    0% {\n",
              "      border-color: transparent;\n",
              "      border-bottom-color: var(--fill-color);\n",
              "      border-left-color: var(--fill-color);\n",
              "    }\n",
              "    20% {\n",
              "      border-color: transparent;\n",
              "      border-left-color: var(--fill-color);\n",
              "      border-top-color: var(--fill-color);\n",
              "    }\n",
              "    30% {\n",
              "      border-color: transparent;\n",
              "      border-left-color: var(--fill-color);\n",
              "      border-top-color: var(--fill-color);\n",
              "      border-right-color: var(--fill-color);\n",
              "    }\n",
              "    40% {\n",
              "      border-color: transparent;\n",
              "      border-right-color: var(--fill-color);\n",
              "      border-top-color: var(--fill-color);\n",
              "    }\n",
              "    60% {\n",
              "      border-color: transparent;\n",
              "      border-right-color: var(--fill-color);\n",
              "    }\n",
              "    80% {\n",
              "      border-color: transparent;\n",
              "      border-right-color: var(--fill-color);\n",
              "      border-bottom-color: var(--fill-color);\n",
              "    }\n",
              "    90% {\n",
              "      border-color: transparent;\n",
              "      border-bottom-color: var(--fill-color);\n",
              "    }\n",
              "  }\n",
              "</style>\n",
              "\n",
              "  <script>\n",
              "    async function quickchart(key) {\n",
              "      const quickchartButtonEl =\n",
              "        document.querySelector('#' + key + ' button');\n",
              "      quickchartButtonEl.disabled = true;  // To prevent multiple clicks.\n",
              "      quickchartButtonEl.classList.add('colab-df-spinner');\n",
              "      try {\n",
              "        const charts = await google.colab.kernel.invokeFunction(\n",
              "            'suggestCharts', [key], {});\n",
              "      } catch (error) {\n",
              "        console.error('Error during call to suggestCharts:', error);\n",
              "      }\n",
              "      quickchartButtonEl.classList.remove('colab-df-spinner');\n",
              "      quickchartButtonEl.classList.add('colab-df-quickchart-complete');\n",
              "    }\n",
              "    (() => {\n",
              "      let quickchartButtonEl =\n",
              "        document.querySelector('#df-63fce4e6-1f9c-4cc7-9915-89c700f4b1da button');\n",
              "      quickchartButtonEl.style.display =\n",
              "        google.colab.kernel.accessAllowed ? 'block' : 'none';\n",
              "    })();\n",
              "  </script>\n",
              "</div>\n",
              "\n",
              "    </div>\n",
              "  </div>\n"
            ],
            "application/vnd.google.colaboratory.intrinsic+json": {
              "type": "dataframe",
              "variable_name": "test",
              "summary": "{\n  \"name\": \"test\",\n  \"rows\": 2136,\n  \"fields\": [\n    {\n      \"column\": \"Unnamed: 0\",\n      \"properties\": {\n        \"dtype\": \"number\",\n        \"std\": 3079,\n        \"min\": 6,\n        \"max\": 10676,\n        \"num_unique_values\": 2136,\n        \"samples\": [\n          5466,\n          3418,\n          4167\n        ],\n        \"semantic_type\": \"\",\n        \"description\": \"\"\n      }\n    },\n    {\n      \"column\": \"task_size\",\n      \"properties\": {\n        \"dtype\": \"number\",\n        \"std\": 1.86483373674728,\n        \"min\": -6.95309463666352,\n        \"max\": 5.79850656527709,\n        \"num_unique_values\": 2136,\n        \"samples\": [\n          -0.850691140773302,\n          -2.46446321564966,\n          -0.34214474091136\n        ],\n        \"semantic_type\": \"\",\n        \"description\": \"\"\n      }\n    },\n    {\n      \"column\": \"cpu_demand\",\n      \"properties\": {\n        \"dtype\": \"number\",\n        \"std\": 1.816297176841959,\n        \"min\": -4.82647797087383,\n        \"max\": 5.52473659964653,\n        \"num_unique_values\": 2136,\n        \"samples\": [\n          0.226099544632306,\n          1.27764572452118,\n          -1.17433964234029\n        ],\n        \"semantic_type\": \"\",\n        \"description\": \"\"\n      }\n    },\n    {\n      \"column\": \"memory_demand\",\n      \"properties\": {\n        \"dtype\": \"number\",\n        \"std\": 1.9979602553375024,\n        \"min\": -6.19627151131394,\n        \"max\": 6.49790613364195,\n        \"num_unique_values\": 2136,\n        \"samples\": [\n          2.40940671430087,\n          -3.71975430126238,\n          3.09064948939276\n        ],\n        \"semantic_type\": \"\",\n        \"description\": \"\"\n      }\n    },\n    {\n      \"column\": \"network_latency\",\n      \"properties\": {\n        \"dtype\": \"number\",\n        \"std\": 1.78606224988955,\n        \"min\": -6.71604560962089,\n        \"max\": 4.93076175768739,\n        \"num_unique_values\": 2136,\n        \"samples\": [\n          -0.353516297448552,\n          1.66905142366574,\n          3.00203872860576\n        ],\n        \"semantic_type\": \"\",\n        \"description\": \"\"\n      }\n    },\n    {\n      \"column\": \"io_operations\",\n      \"properties\": {\n        \"dtype\": \"number\",\n        \"std\": 1.3111662065070138,\n        \"min\": -6.0386447688364,\n        \"max\": 3.33218520125019,\n        \"num_unique_values\": 2136,\n        \"samples\": [\n          -0.724308624857687,\n          1.04723975641838,\n          -1.74393893565175\n        ],\n        \"semantic_type\": \"\",\n        \"description\": \"\"\n      }\n    },\n    {\n      \"column\": \"disk_usage\",\n      \"properties\": {\n        \"dtype\": \"number\",\n        \"std\": 3.3156104280289247,\n        \"min\": -9.94440780640511,\n        \"max\": 10.4730498072737,\n        \"num_unique_values\": 2136,\n        \"samples\": [\n          0.424782167785424,\n          -6.33174154262234,\n          -2.70579615610116\n        ],\n        \"semantic_type\": \"\",\n        \"description\": \"\"\n      }\n    },\n    {\n      \"column\": \"num_connections\",\n      \"properties\": {\n        \"dtype\": \"number\",\n        \"std\": 0.9722547547242874,\n        \"min\": -3.72614127501897,\n        \"max\": 3.76015524857528,\n        \"num_unique_values\": 2136,\n        \"samples\": [\n          0.989725480741958,\n          -1.0297068466715,\n          -1.00873303547619\n        ],\n        \"semantic_type\": \"\",\n        \"description\": \"\"\n      }\n    },\n    {\n      \"column\": \"priority_level\",\n      \"properties\": {\n        \"dtype\": \"number\",\n        \"std\": 1.9512552193545822,\n        \"min\": -5.4160291195877,\n        \"max\": 6.88770384041319,\n        \"num_unique_values\": 2136,\n        \"samples\": [\n          1.99526684753859,\n          3.3868397927163,\n          2.56463261323829\n        ],\n        \"semantic_type\": \"\",\n        \"description\": \"\"\n      }\n    },\n    {\n      \"column\": \"target\",\n      \"properties\": {\n        \"dtype\": \"number\",\n        \"std\": 0,\n        \"min\": 0,\n        \"max\": 1,\n        \"num_unique_values\": 2,\n        \"samples\": [\n          0,\n          1\n        ],\n        \"semantic_type\": \"\",\n        \"description\": \"\"\n      }\n    },\n    {\n      \"column\": \"timestamp\",\n      \"properties\": {\n        \"dtype\": \"object\",\n        \"num_unique_values\": 2136,\n        \"samples\": [\n          \"2024-11-11 15:56:57\",\n          \"2024-09-20 07:54:12\"\n        ],\n        \"semantic_type\": \"\",\n        \"description\": \"\"\n      }\n    }\n  ]\n}"
            }
          },
          "metadata": {},
          "execution_count": 22
        }
      ]
    },
    {
      "cell_type": "code",
      "source": [
        "###! pip install klib"
      ],
      "metadata": {
        "id": "ZPeuj1xz5ttM"
      },
      "execution_count": 23,
      "outputs": []
    },
    {
      "cell_type": "code",
      "source": [
        "import klib"
      ],
      "metadata": {
        "id": "hmO9axr9LhLs"
      },
      "execution_count": 24,
      "outputs": []
    },
    {
      "cell_type": "code",
      "source": [
        "train = klib.data_cleaning(train)\n",
        "test = klib.data_cleaning(test)"
      ],
      "metadata": {
        "colab": {
          "base_uri": "https://localhost:8080/"
        },
        "id": "QfjFP4QbLhOw",
        "outputId": "aac12b3c-0903-4a8b-b88c-c0a0a4f3e673"
      },
      "execution_count": 25,
      "outputs": [
        {
          "output_type": "stream",
          "name": "stdout",
          "text": [
            "Shape of cleaned data: (8542, 11) - Remaining NAs: 0\n",
            "\n",
            "\n",
            "Dropped rows: 0\n",
            "     of which 0 duplicates. (Rows (first 150 shown): [])\n",
            "\n",
            "Dropped columns: 0\n",
            "     of which 0 single valued.     Columns: []\n",
            "Dropped missing values: 0\n",
            "Reduced memory by at least: 0.37 MB (-51.39%)\n",
            "\n",
            "Shape of cleaned data: (2136, 11) - Remaining NAs: 0\n",
            "\n",
            "\n",
            "Dropped rows: 0\n",
            "     of which 0 duplicates. (Rows (first 150 shown): [])\n",
            "\n",
            "Dropped columns: 0\n",
            "     of which 0 single valued.     Columns: []\n",
            "Dropped missing values: 0\n",
            "Reduced memory by at least: 0.09 MB (-50.0%)\n",
            "\n"
          ]
        }
      ]
    },
    {
      "cell_type": "code",
      "source": [
        "train_cleaned = klib.clean_column_names(train)\n",
        "test_cleaned = klib.clean_column_names(test)"
      ],
      "metadata": {
        "id": "jrtHRemjLhR4"
      },
      "execution_count": 26,
      "outputs": []
    },
    {
      "cell_type": "code",
      "source": [
        "train_cleaned = klib.convert_datatypes(train_cleaned)\n",
        "test_cleaned = klib.convert_datatypes(test_cleaned)"
      ],
      "metadata": {
        "id": "bLBainHVLhVV"
      },
      "execution_count": 27,
      "outputs": []
    },
    {
      "cell_type": "code",
      "source": [
        "train.columns"
      ],
      "metadata": {
        "colab": {
          "base_uri": "https://localhost:8080/"
        },
        "id": "fDWygdJmL2p_",
        "outputId": "1dc756a3-ba49-4c5e-c423-fe216a096e38"
      },
      "execution_count": 28,
      "outputs": [
        {
          "output_type": "execute_result",
          "data": {
            "text/plain": [
              "Index(['unnamed_0', 'task_size', 'cpu_demand', 'memory_demand',\n",
              "       'network_latency', 'io_operations', 'disk_usage', 'num_connections',\n",
              "       'priority_level', 'target', 'timestamp'],\n",
              "      dtype='object')"
            ]
          },
          "metadata": {},
          "execution_count": 28
        }
      ]
    },
    {
      "cell_type": "code",
      "source": [
        "train[\"timestamp\"]  = pd.to_datetime(train[\"timestamp\"])"
      ],
      "metadata": {
        "id": "PPWd4S7tL2s-"
      },
      "execution_count": 29,
      "outputs": []
    },
    {
      "cell_type": "code",
      "source": [
        "train[\"day\"] = train[\"timestamp\"].dt.day\n",
        "train[\"month\"] = train[\"timestamp\"].dt.month\n",
        "train[\"year\"] = train[\"timestamp\"].dt.year\n",
        "train[\"hour\"] = train[\"timestamp\"].dt.hour"
      ],
      "metadata": {
        "id": "0Q6EtuT0L2v3"
      },
      "execution_count": 30,
      "outputs": []
    },
    {
      "cell_type": "code",
      "source": [
        "train.columns"
      ],
      "metadata": {
        "colab": {
          "base_uri": "https://localhost:8080/"
        },
        "id": "sF37JVkTMGob",
        "outputId": "753b62e5-9c74-4cf8-f380-39eee8670536"
      },
      "execution_count": 31,
      "outputs": [
        {
          "output_type": "execute_result",
          "data": {
            "text/plain": [
              "Index(['unnamed_0', 'task_size', 'cpu_demand', 'memory_demand',\n",
              "       'network_latency', 'io_operations', 'disk_usage', 'num_connections',\n",
              "       'priority_level', 'target', 'timestamp', 'day', 'month', 'year',\n",
              "       'hour'],\n",
              "      dtype='object')"
            ]
          },
          "metadata": {},
          "execution_count": 31
        }
      ]
    },
    {
      "cell_type": "code",
      "source": [
        "#train.drop(columns=\"timestamp\", inplace=True)"
      ],
      "metadata": {
        "id": "JcJLjQV4L2yu"
      },
      "execution_count": 40,
      "outputs": []
    },
    {
      "cell_type": "code",
      "source": [
        "#train.drop(columns=\"unnamed_0\", inplace=True)"
      ],
      "metadata": {
        "id": "8DqeZAW7R_mL"
      },
      "execution_count": 41,
      "outputs": []
    },
    {
      "cell_type": "code",
      "source": [
        "test[\"timestamp\"] = pd.to_datetime(test[\"timestamp\"])"
      ],
      "metadata": {
        "id": "bGq9WvfhL21m"
      },
      "execution_count": 34,
      "outputs": []
    },
    {
      "cell_type": "code",
      "source": [
        "test[\"day\"] = test[\"timestamp\"].dt.day\n",
        "test[\"month\"] = test[\"timestamp\"].dt.month\n",
        "test[\"year\"] = test[\"timestamp\"].dt.year\n",
        "test[\"hour\"] = test[\"timestamp\"].dt.hour"
      ],
      "metadata": {
        "id": "Wf9Pbk0sL24U"
      },
      "execution_count": 35,
      "outputs": []
    },
    {
      "cell_type": "code",
      "source": [
        "#test.drop(columns=\"timestamp\", inplace=True)"
      ],
      "metadata": {
        "id": "Gs97jzysL27K"
      },
      "execution_count": 42,
      "outputs": []
    },
    {
      "cell_type": "code",
      "source": [
        "#test.drop(columns=\"unnamed_0\", inplace=True)"
      ],
      "metadata": {
        "id": "UbGK5b06SDRv"
      },
      "execution_count": 43,
      "outputs": []
    },
    {
      "cell_type": "code",
      "source": [
        "print(\"The DataTypes :\", train.dtypes)"
      ],
      "metadata": {
        "colab": {
          "base_uri": "https://localhost:8080/"
        },
        "id": "o31QJXpyL299",
        "outputId": "3d52f088-602d-4d10-8661-66ec9da987da"
      },
      "execution_count": 44,
      "outputs": [
        {
          "output_type": "stream",
          "name": "stdout",
          "text": [
            "The DataTypes : task_size          float32\n",
            "cpu_demand         float32\n",
            "memory_demand      float32\n",
            "network_latency    float32\n",
            "io_operations      float32\n",
            "disk_usage         float32\n",
            "num_connections    float32\n",
            "priority_level     float32\n",
            "target                int8\n",
            "day                  int32\n",
            "month                int32\n",
            "year                 int32\n",
            "hour                 int32\n",
            "dtype: object\n"
          ]
        }
      ]
    },
    {
      "cell_type": "code",
      "source": [
        "X_train = train.drop(columns=\"target\")\n",
        "Y_train = train[\"target\"]"
      ],
      "metadata": {
        "id": "bW80uVX4MaaZ"
      },
      "execution_count": 45,
      "outputs": []
    },
    {
      "cell_type": "code",
      "source": [
        "feature_names = X_train.columns"
      ],
      "metadata": {
        "id": "BcKcaQ0eMadd"
      },
      "execution_count": 46,
      "outputs": []
    },
    {
      "cell_type": "code",
      "source": [
        "X_test = test.drop(columns=\"target\")\n",
        "Y_test = test[\"target\"]"
      ],
      "metadata": {
        "id": "tLU7C-JjMagN"
      },
      "execution_count": 47,
      "outputs": []
    },
    {
      "cell_type": "code",
      "source": [
        "print(X_train.shape, Y_train.shape, X_test.shape, Y_test.shape)"
      ],
      "metadata": {
        "colab": {
          "base_uri": "https://localhost:8080/"
        },
        "id": "OoQJ1UIqMajB",
        "outputId": "17b5545d-b6ab-4ffe-82dc-f72dad0dbaa0"
      },
      "execution_count": 48,
      "outputs": [
        {
          "output_type": "stream",
          "name": "stdout",
          "text": [
            "(8542, 12) (8542,) (2136, 12) (2136,)\n"
          ]
        }
      ]
    },
    {
      "cell_type": "code",
      "source": [
        "from sklearn.preprocessing import StandardScaler"
      ],
      "metadata": {
        "id": "jQXt3pgMMlBC"
      },
      "execution_count": 49,
      "outputs": []
    },
    {
      "cell_type": "code",
      "source": [
        "scaler = StandardScaler()"
      ],
      "metadata": {
        "id": "2IAr3D1xMal9"
      },
      "execution_count": 50,
      "outputs": []
    },
    {
      "cell_type": "code",
      "source": [
        "X_train = scaler.fit_transform(X_train)\n",
        "X_test = scaler.fit_transform(X_test)"
      ],
      "metadata": {
        "id": "F3MAd2fjMao5"
      },
      "execution_count": 51,
      "outputs": []
    },
    {
      "cell_type": "code",
      "source": [
        "num_var = [feature for feature in train.columns if train[feature].dtypes != 'O']\n",
        "discrete_var = [feature for feature in num_var if len(train[feature].unique()) <= 25]\n",
        "cont_var = [feature for feature in num_var if feature not in discrete_var]\n",
        "categ_var = [feature for feature in train.columns if feature not in num_var]"
      ],
      "metadata": {
        "id": "LvfsLrLgMart"
      },
      "execution_count": 52,
      "outputs": []
    },
    {
      "cell_type": "code",
      "source": [
        "def find_var_type(var):\n",
        "\n",
        "\n",
        "    if var in discrete_var:\n",
        "        print(\"{} is a Numerical Variable, Discrete in nature\".format(var))\n",
        "    elif var in cont_var :\n",
        "        print(\"{} is a Numerical Variable, Continuous in nature\".format(var))\n",
        "    else :\n",
        "        print(\"{} is a Categorical Variable\".format(var))"
      ],
      "metadata": {
        "id": "zwg7sZvfOTOQ"
      },
      "execution_count": 53,
      "outputs": []
    },
    {
      "cell_type": "code",
      "source": [
        "print(\"The continuous variables are :\", cont_var)\n",
        "print(\"The categorical variables are :\", discrete_var)"
      ],
      "metadata": {
        "colab": {
          "base_uri": "https://localhost:8080/"
        },
        "id": "PrEFA40aOTRB",
        "outputId": "ff441326-d03c-455d-91da-e474ca5414fc"
      },
      "execution_count": 54,
      "outputs": [
        {
          "output_type": "stream",
          "name": "stdout",
          "text": [
            "The continuous variables are : ['task_size', 'cpu_demand', 'memory_demand', 'network_latency', 'io_operations', 'disk_usage', 'num_connections', 'priority_level', 'day']\n",
            "The categorical variables are : ['target', 'month', 'year', 'hour']\n"
          ]
        }
      ]
    },
    {
      "cell_type": "code",
      "source": [
        "from sklearn.linear_model import Lasso\n",
        "\n",
        "from sklearn.feature_selection import SelectFromModel"
      ],
      "metadata": {
        "id": "FuXSEbOLOTTw"
      },
      "execution_count": 55,
      "outputs": []
    },
    {
      "cell_type": "code",
      "source": [
        "# Perform feature selection using a variance threshold\n",
        "from sklearn.feature_selection import VarianceThreshold\n",
        "\n",
        "sel = VarianceThreshold(threshold=(0.02))\n",
        "sel.fit(train)\n",
        "\n",
        "print(\"Feature selection\", sel.get_support())\n",
        "print(\"Selected features:\", list(train.columns[sel.get_support()]))\n",
        "print(\"Removed features:\", list(train.columns[~sel.get_support()]))"
      ],
      "metadata": {
        "colab": {
          "base_uri": "https://localhost:8080/"
        },
        "id": "TVdmVz6IOTWd",
        "outputId": "666a78ed-d0a7-42ee-e9aa-736e70aa6901"
      },
      "execution_count": 56,
      "outputs": [
        {
          "output_type": "stream",
          "name": "stdout",
          "text": [
            "Feature selection [ True  True  True  True  True  True  True  True  True  True  True  True\n",
            "  True]\n",
            "Selected features: ['task_size', 'cpu_demand', 'memory_demand', 'network_latency', 'io_operations', 'disk_usage', 'num_connections', 'priority_level', 'target', 'day', 'month', 'year', 'hour']\n",
            "Removed features: []\n"
          ]
        }
      ]
    },
    {
      "cell_type": "code",
      "source": [
        "# Function to list features that are correlated\n",
        "# Adds the first of the correlated pair only (not both)\n",
        "def correlatedFeatures(dataset, threshold):\n",
        "    correlated_columns = set()\n",
        "    correlations = dataset.corr()\n",
        "    for i in range(len(correlations)):\n",
        "        for j in range(i):\n",
        "            if abs(correlations.iloc[i,j]) > threshold:\n",
        "                correlated_columns.add(correlations.columns[i])\n",
        "    return correlated_columns"
      ],
      "metadata": {
        "id": "hPB-ftJTOTZO"
      },
      "execution_count": 57,
      "outputs": []
    },
    {
      "cell_type": "code",
      "source": [
        "# Get a set of correlated features, based on threshold correlation of 0.85\n",
        "cf = correlatedFeatures(train, 0.85)\n",
        "cf"
      ],
      "metadata": {
        "colab": {
          "base_uri": "https://localhost:8080/"
        },
        "id": "5Ws4wmsDOj0l",
        "outputId": "9a35984a-0494-4902-c1e5-ef027ac1d52f"
      },
      "execution_count": 58,
      "outputs": [
        {
          "output_type": "execute_result",
          "data": {
            "text/plain": [
              "set()"
            ]
          },
          "metadata": {},
          "execution_count": 58
        }
      ]
    },
    {
      "cell_type": "code",
      "source": [
        "X_train = pd.DataFrame(X_train)\n",
        "X_test = pd.DataFrame(X_test)\n",
        "Y_test = pd.DataFrame(Y_test)\n",
        "Y_train = pd.DataFrame(Y_train)"
      ],
      "metadata": {
        "id": "R11ExQs6Qez4"
      },
      "execution_count": 59,
      "outputs": []
    },
    {
      "cell_type": "code",
      "source": [
        "print(X_train.shape)\n",
        "print(train.shape)\n",
        "print(train.columns)"
      ],
      "metadata": {
        "colab": {
          "base_uri": "https://localhost:8080/"
        },
        "id": "8ihpA1iUP6iL",
        "outputId": "b7e6a626-8458-4b3d-8c04-2af46ea287f5"
      },
      "execution_count": 60,
      "outputs": [
        {
          "output_type": "stream",
          "name": "stdout",
          "text": [
            "(8542, 12)\n",
            "(8542, 13)\n",
            "Index(['task_size', 'cpu_demand', 'memory_demand', 'network_latency',\n",
            "       'io_operations', 'disk_usage', 'num_connections', 'priority_level',\n",
            "       'target', 'day', 'month', 'year', 'hour'],\n",
            "      dtype='object')\n"
          ]
        }
      ]
    },
    {
      "cell_type": "code",
      "source": [
        "X_train = X_train.rename(columns={\n",
        "    0: 'task_size',\n",
        "    1: 'cpu_demand',\n",
        "    2: 'memory_demand',\n",
        "    3: 'network_latency',\n",
        "    4: 'io_operations',\n",
        "    5: 'disk_usage',\n",
        "    6: 'num_connections',\n",
        "    7: 'priority_level',\n",
        "    8: 'day',\n",
        "    9: 'month',\n",
        "    10: 'year',\n",
        "    11: 'hour'\n",
        "})\n"
      ],
      "metadata": {
        "id": "p2Hd3_tWPDrS"
      },
      "execution_count": 68,
      "outputs": []
    },
    {
      "cell_type": "code",
      "source": [
        "X_train.columns"
      ],
      "metadata": {
        "colab": {
          "base_uri": "https://localhost:8080/"
        },
        "id": "SdnFcfnyUhy7",
        "outputId": "acc55a35-da1a-4ea9-e938-495f411b5ab6"
      },
      "execution_count": 69,
      "outputs": [
        {
          "output_type": "execute_result",
          "data": {
            "text/plain": [
              "Index(['task_size', 'cpu_demand', 'memory_demand', 'network_latency',\n",
              "       'io_operations', 'disk_usage', 'num_connections', 'priority_level',\n",
              "       'day', 'month', 'year', 'hour'],\n",
              "      dtype='object')"
            ]
          },
          "metadata": {},
          "execution_count": 69
        }
      ]
    },
    {
      "cell_type": "code",
      "source": [
        "X_test = X_test.rename(columns={\n",
        "    0: 'task_size',\n",
        "    1: 'cpu_demand',\n",
        "    2: 'memory_demand',\n",
        "    3: 'network_latency',\n",
        "    4: 'io_operations',\n",
        "    5: 'disk_usage',\n",
        "    6: 'num_connections',\n",
        "    7: 'priority_level',\n",
        "    8: 'day',\n",
        "    9: 'month',\n",
        "    10: 'year',\n",
        "    11: 'hour'\n",
        "})\n"
      ],
      "metadata": {
        "id": "EVtqlHNfRR5x"
      },
      "execution_count": 70,
      "outputs": []
    },
    {
      "cell_type": "code",
      "source": [
        "print(X_train.columns)\n",
        "print(X_test.columns)"
      ],
      "metadata": {
        "colab": {
          "base_uri": "https://localhost:8080/"
        },
        "id": "qxSCw-NcTPPx",
        "outputId": "bddfa158-ae5b-4def-e8f6-15551ef32316"
      },
      "execution_count": 71,
      "outputs": [
        {
          "output_type": "stream",
          "name": "stdout",
          "text": [
            "Index(['task_size', 'cpu_demand', 'memory_demand', 'network_latency',\n",
            "       'io_operations', 'disk_usage', 'num_connections', 'priority_level',\n",
            "       'day', 'month', 'year', 'hour'],\n",
            "      dtype='object')\n",
            "Index(['task_size', 'cpu_demand', 'memory_demand', 'network_latency',\n",
            "       'io_operations', 'disk_usage', 'num_connections', 'priority_level',\n",
            "       'day', 'month', 'year', 'hour'],\n",
            "      dtype='object')\n"
          ]
        }
      ]
    },
    {
      "cell_type": "markdown",
      "source": [
        "## PIPELINE  CREATION"
      ],
      "metadata": {
        "id": "qM8W-MB5VBO_"
      }
    },
    {
      "cell_type": "code",
      "source": [
        "from sklearn.datasets import load_iris\n",
        "from sklearn.model_selection import train_test_split\n",
        "from sklearn.preprocessing import StandardScaler\n",
        "from sklearn.decomposition import PCA\n",
        "from sklearn.pipeline import Pipeline\n",
        "from sklearn.linear_model import LogisticRegression\n",
        "from sklearn.tree import DecisionTreeClassifier\n",
        "from sklearn.ensemble import RandomForestClassifier\n",
        "from sklearn.ensemble import GradientBoostingClassifier\n",
        "from xgboost import XGBClassifier"
      ],
      "metadata": {
        "id": "_LRV5-h-TWSG"
      },
      "execution_count": 73,
      "outputs": []
    },
    {
      "cell_type": "code",
      "source": [
        "pipeline_lr=Pipeline([('scalar1',StandardScaler()),\n",
        "                     ('pca1',PCA(n_components=2)),\n",
        "                     ('lr_classifier',LogisticRegression())])"
      ],
      "metadata": {
        "id": "0FbwYymXWnO4"
      },
      "execution_count": 77,
      "outputs": []
    },
    {
      "cell_type": "code",
      "source": [
        "pipeline_dt=Pipeline([('scalar1',StandardScaler()),\n",
        "                     ('pca1',PCA(n_components=2)),\n",
        "                     ('dt_classifier',DecisionTreeClassifier())])"
      ],
      "metadata": {
        "id": "ZmL4gYiuWxDs"
      },
      "execution_count": 78,
      "outputs": []
    },
    {
      "cell_type": "code",
      "source": [
        "pipeline_rf=Pipeline([('scalar1',StandardScaler()),\n",
        "                     ('pca1',PCA(n_components=2)),\n",
        "                     ('rf_classifier',RandomForestClassifier())])"
      ],
      "metadata": {
        "id": "mbqL93JnWzQq"
      },
      "execution_count": 79,
      "outputs": []
    },
    {
      "cell_type": "code",
      "source": [
        "pipeline_gradient_boost=Pipeline([('scalar4',StandardScaler()),\n",
        "                     ('pca4',PCA(n_components=2)),\n",
        "                     ('gb_classifier',GradientBoostingClassifier())])"
      ],
      "metadata": {
        "id": "1le6a5Q2bITR"
      },
      "execution_count": 80,
      "outputs": []
    },
    {
      "cell_type": "code",
      "source": [
        "pipeline_xgboost=Pipeline([('scalar4',StandardScaler()),\n",
        "                     ('pca4',PCA(n_components=2)),\n",
        "                     ('gb_classifier',XGBClassifier())])"
      ],
      "metadata": {
        "id": "728EEHXcbYmH"
      },
      "execution_count": 81,
      "outputs": []
    },
    {
      "cell_type": "code",
      "source": [
        "## LEts make the list of pipelines\n",
        "pipelines = [pipeline_lr, pipeline_dt, pipeline_rf, pipeline_gradient_boost,pipeline_xgboost]"
      ],
      "metadata": {
        "id": "nQ5aBeVmbgFi"
      },
      "execution_count": 82,
      "outputs": []
    },
    {
      "cell_type": "code",
      "source": [
        "best_accuracy=0.0\n",
        "best_classifier=0\n",
        "best_pipeline=\"\""
      ],
      "metadata": {
        "id": "g_lGAYENbkVI"
      },
      "execution_count": 83,
      "outputs": []
    },
    {
      "cell_type": "code",
      "source": [
        "# Dictionary of pipelines and classifier types for ease of reference\n",
        "pipe_dict = {0: 'Linear Regression', 1: 'Decision Tree', 2: 'RandomForest', 3: 'Gradient Boost', 4: 'Extreme Gradient Boost'}\n",
        "\n",
        "# Fit the pipelines\n",
        "for pipe in pipelines:\n",
        "\tpipe.fit(X_train, Y_train)"
      ],
      "metadata": {
        "id": "zpRsLdAPdYBh"
      },
      "execution_count": 85,
      "outputs": []
    },
    {
      "cell_type": "code",
      "source": [
        "for i,model in enumerate(pipelines):\n",
        "    print(\"{} Test Value: {}\".format(pipe_dict[i],model.score(X_test, Y_test)))"
      ],
      "metadata": {
        "colab": {
          "base_uri": "https://localhost:8080/"
        },
        "id": "vcnYtTcRdYae",
        "outputId": "840d8e58-4227-4fd6-acb3-3dd085b8a721"
      },
      "execution_count": 86,
      "outputs": [
        {
          "output_type": "stream",
          "name": "stdout",
          "text": [
            "Linear Regression Test Value: 0.7050561797752809\n",
            "Decision Tree Test Value: 0.6999063670411985\n",
            "RandomForest Test Value: 0.725187265917603\n",
            "Gradient Boost Test Value: 0.7598314606741573\n",
            "Extreme Gradient Boost Test Value: 0.7415730337078652\n"
          ]
        }
      ]
    },
    {
      "cell_type": "markdown",
      "source": [
        "### XGBClassifier"
      ],
      "metadata": {
        "id": "XNRYoDM0k8Fb"
      }
    },
    {
      "cell_type": "code",
      "source": [
        "from xgboost import XGBClassifier"
      ],
      "metadata": {
        "id": "r_lVmjWLdn9x"
      },
      "execution_count": 87,
      "outputs": []
    },
    {
      "cell_type": "code",
      "source": [
        "import time"
      ],
      "metadata": {
        "id": "RNhe1yUQlDIF"
      },
      "execution_count": 89,
      "outputs": []
    },
    {
      "cell_type": "code",
      "source": [
        "from sklearn.metrics import make_scorer, accuracy_score"
      ],
      "metadata": {
        "id": "yZTGtKQ-mpG5"
      },
      "execution_count": 92,
      "outputs": []
    },
    {
      "cell_type": "code",
      "source": [
        "from sklearn.metrics import accuracy_score as accuracy\n",
        "accuracy = make_scorer(accuracy, greater_is_better=False)"
      ],
      "metadata": {
        "id": "k11RqFSOmtBc"
      },
      "execution_count": 95,
      "outputs": []
    },
    {
      "cell_type": "code",
      "source": [
        "def xgb_cl_bo(min_child_weight, gamma, subsample, colsample_bytree, max_depth):\n",
        "    params_xgb = {}\n",
        "    params_xgb['min_child_weight'] = min_child_weight\n",
        "    params_xgb['gamma'] = gamma\n",
        "    params_xgb['subsample'] = subsample\n",
        "    params_xgb['colsample_bytree'] = int(colsample_bytree)\n",
        "    params_xgb['max_depth'] = int(max_depth)\n",
        "    scores = cross_val_score(XGBClassifier(random_state=123, **params_xgb),\n",
        "                             X_train, Y_train, scoring=accuracy, cv=5).mean()\n",
        "    score = scores.mean()\n",
        "    score = -score\n",
        "    return score\n",
        "# Run Bayesian Optimization\n",
        "start = time.time()\n",
        "params_xgb ={\n",
        "    'min_child_weight':(1, 20),\n",
        "    'gamma':(0.5, 10),\n",
        "    'subsample':(0.6, 1.0),\n",
        "    'colsample_bytree':(0.6, 1.0),\n",
        "    'max_depth': (3, 35)\n",
        "}"
      ],
      "metadata": {
        "id": "1oYc-VMok_-I"
      },
      "execution_count": 96,
      "outputs": []
    },
    {
      "cell_type": "code",
      "source": [
        "xgb_bo = BayesianOptimization(xgb_cl_bo, params_xgb)\n",
        "xgb_bo.maximize(init_points=20, n_iter=4)\n",
        "print('It takes %s minutes' % ((time.time() - start)/60))"
      ],
      "metadata": {
        "colab": {
          "base_uri": "https://localhost:8080/"
        },
        "id": "cnILeSxGlEQW",
        "outputId": "a22d8d5d-8d97-4533-db7b-47a18f06b48e"
      },
      "execution_count": 97,
      "outputs": [
        {
          "output_type": "stream",
          "name": "stdout",
          "text": [
            "|   iter    |  target   | colsam... |   gamma   | max_depth | min_ch... | subsample |\n",
            "-------------------------------------------------------------------------------------\n",
            "| \u001b[39m1        \u001b[39m | \u001b[39m0.8616   \u001b[39m | \u001b[39m0.6436   \u001b[39m | \u001b[39m6.793    \u001b[39m | \u001b[39m6.231    \u001b[39m | \u001b[39m18.43    \u001b[39m | \u001b[39m0.7072   \u001b[39m |\n",
            "| \u001b[35m2        \u001b[39m | \u001b[35m0.8653   \u001b[39m | \u001b[35m0.9614   \u001b[39m | \u001b[35m2.461    \u001b[39m | \u001b[35m7.225    \u001b[39m | \u001b[35m3.727    \u001b[39m | \u001b[35m0.8514   \u001b[39m |\n",
            "| \u001b[39m3        \u001b[39m | \u001b[39m0.8607   \u001b[39m | \u001b[39m0.9759   \u001b[39m | \u001b[39m1.768    \u001b[39m | \u001b[39m25.47    \u001b[39m | \u001b[39m12.21    \u001b[39m | \u001b[39m0.7787   \u001b[39m |\n",
            "| \u001b[39m4        \u001b[39m | \u001b[39m0.8552   \u001b[39m | \u001b[39m0.9733   \u001b[39m | \u001b[39m1.382    \u001b[39m | \u001b[39m11.94    \u001b[39m | \u001b[39m10.04    \u001b[39m | \u001b[39m0.6727   \u001b[39m |\n",
            "| \u001b[39m5        \u001b[39m | \u001b[39m0.8624   \u001b[39m | \u001b[39m0.9525   \u001b[39m | \u001b[39m2.397    \u001b[39m | \u001b[39m16.68    \u001b[39m | \u001b[39m18.7     \u001b[39m | \u001b[39m0.7433   \u001b[39m |\n",
            "| \u001b[39m6        \u001b[39m | \u001b[39m0.8627   \u001b[39m | \u001b[39m0.8585   \u001b[39m | \u001b[39m6.536    \u001b[39m | \u001b[39m26.2     \u001b[39m | \u001b[39m9.321    \u001b[39m | \u001b[39m0.7565   \u001b[39m |\n",
            "| \u001b[39m7        \u001b[39m | \u001b[39m0.8588   \u001b[39m | \u001b[39m0.94     \u001b[39m | \u001b[39m9.72     \u001b[39m | \u001b[39m12.31    \u001b[39m | \u001b[39m4.049    \u001b[39m | \u001b[39m0.7413   \u001b[39m |\n",
            "| \u001b[39m8        \u001b[39m | \u001b[39m0.8646   \u001b[39m | \u001b[39m0.6457   \u001b[39m | \u001b[39m5.073    \u001b[39m | \u001b[39m27.13    \u001b[39m | \u001b[39m18.97    \u001b[39m | \u001b[39m0.9906   \u001b[39m |\n",
            "| \u001b[39m9        \u001b[39m | \u001b[39m0.8623   \u001b[39m | \u001b[39m0.877    \u001b[39m | \u001b[39m1.648    \u001b[39m | \u001b[39m6.607    \u001b[39m | \u001b[39m9.763    \u001b[39m | \u001b[39m0.9973   \u001b[39m |\n",
            "| \u001b[39m10       \u001b[39m | \u001b[39m0.8617   \u001b[39m | \u001b[39m0.746    \u001b[39m | \u001b[39m2.625    \u001b[39m | \u001b[39m10.21    \u001b[39m | \u001b[39m16.53    \u001b[39m | \u001b[39m0.6377   \u001b[39m |\n",
            "| \u001b[39m11       \u001b[39m | \u001b[39m0.8601   \u001b[39m | \u001b[39m0.748    \u001b[39m | \u001b[39m9.678    \u001b[39m | \u001b[39m9.417    \u001b[39m | \u001b[39m8.343    \u001b[39m | \u001b[39m0.6953   \u001b[39m |\n",
            "| \u001b[39m12       \u001b[39m | \u001b[39m0.8642   \u001b[39m | \u001b[39m0.9423   \u001b[39m | \u001b[39m4.18     \u001b[39m | \u001b[39m33.06    \u001b[39m | \u001b[39m3.178    \u001b[39m | \u001b[39m0.6781   \u001b[39m |\n",
            "| \u001b[39m13       \u001b[39m | \u001b[39m0.8628   \u001b[39m | \u001b[39m0.909    \u001b[39m | \u001b[39m5.724    \u001b[39m | \u001b[39m17.9     \u001b[39m | \u001b[39m19.68    \u001b[39m | \u001b[39m0.6034   \u001b[39m |\n",
            "| \u001b[39m14       \u001b[39m | \u001b[39m0.862    \u001b[39m | \u001b[39m0.9448   \u001b[39m | \u001b[39m8.322    \u001b[39m | \u001b[39m28.61    \u001b[39m | \u001b[39m12.94    \u001b[39m | \u001b[39m0.7488   \u001b[39m |\n",
            "| \u001b[39m15       \u001b[39m | \u001b[39m0.8644   \u001b[39m | \u001b[39m0.8144   \u001b[39m | \u001b[39m3.21     \u001b[39m | \u001b[39m5.25     \u001b[39m | \u001b[39m3.047    \u001b[39m | \u001b[39m0.9055   \u001b[39m |\n",
            "| \u001b[39m16       \u001b[39m | \u001b[39m0.863    \u001b[39m | \u001b[39m0.6247   \u001b[39m | \u001b[39m3.631    \u001b[39m | \u001b[39m13.4     \u001b[39m | \u001b[39m7.148    \u001b[39m | \u001b[39m0.7534   \u001b[39m |\n",
            "| \u001b[39m17       \u001b[39m | \u001b[39m0.8647   \u001b[39m | \u001b[39m0.6919   \u001b[39m | \u001b[39m5.665    \u001b[39m | \u001b[39m10.27    \u001b[39m | \u001b[39m5.053    \u001b[39m | \u001b[39m0.9683   \u001b[39m |\n",
            "| \u001b[39m18       \u001b[39m | \u001b[39m0.8641   \u001b[39m | \u001b[39m0.6603   \u001b[39m | \u001b[39m5.353    \u001b[39m | \u001b[39m4.557    \u001b[39m | \u001b[39m12.72    \u001b[39m | \u001b[39m0.7759   \u001b[39m |\n",
            "| \u001b[39m19       \u001b[39m | \u001b[39m0.8631   \u001b[39m | \u001b[39m0.6638   \u001b[39m | \u001b[39m7.535    \u001b[39m | \u001b[39m17.84    \u001b[39m | \u001b[39m16.91    \u001b[39m | \u001b[39m0.8554   \u001b[39m |\n",
            "| \u001b[39m20       \u001b[39m | \u001b[39m0.8644   \u001b[39m | \u001b[39m0.9903   \u001b[39m | \u001b[39m2.259    \u001b[39m | \u001b[39m3.986    \u001b[39m | \u001b[39m5.922    \u001b[39m | \u001b[39m0.8281   \u001b[39m |\n",
            "| \u001b[39m21       \u001b[39m | \u001b[39m0.8651   \u001b[39m | \u001b[39m0.9848   \u001b[39m | \u001b[39m4.881    \u001b[39m | \u001b[39m6.72     \u001b[39m | \u001b[39m5.166    \u001b[39m | \u001b[39m0.68     \u001b[39m |\n",
            "| \u001b[35m22       \u001b[39m | \u001b[35m0.8657   \u001b[39m | \u001b[35m0.6142   \u001b[39m | \u001b[35m4.013    \u001b[39m | \u001b[35m9.225    \u001b[39m | \u001b[35m2.063    \u001b[39m | \u001b[35m0.8222   \u001b[39m |\n",
            "| \u001b[39m23       \u001b[39m | \u001b[39m0.8642   \u001b[39m | \u001b[39m0.8175   \u001b[39m | \u001b[39m3.028    \u001b[39m | \u001b[39m12.91    \u001b[39m | \u001b[39m2.598    \u001b[39m | \u001b[39m0.9816   \u001b[39m |\n",
            "| \u001b[39m24       \u001b[39m | \u001b[39m0.8487   \u001b[39m | \u001b[39m0.8775   \u001b[39m | \u001b[39m0.7193   \u001b[39m | \u001b[39m9.798    \u001b[39m | \u001b[39m1.096    \u001b[39m | \u001b[39m0.8476   \u001b[39m |\n",
            "=====================================================================================\n",
            "It takes 0.28228790760040284 minutes\n"
          ]
        }
      ]
    },
    {
      "cell_type": "code",
      "source": [
        "params_xgb = xgb_bo.max['params']\n",
        "params_xgb['max_depth'] = round(params_xgb['max_depth'])\n",
        "params_xgb['min_child_weight'] = round(params_xgb['min_child_weight'])\n",
        "params_xgb['gamma'] = round(params_xgb['gamma'])\n",
        "params_xgb['colsample_bytree'] = round(params_xgb['colsample_bytree'])\n",
        "params_xgb['subsample'] = round(params_xgb['subsample'])\n",
        "params_xgb"
      ],
      "metadata": {
        "colab": {
          "base_uri": "https://localhost:8080/"
        },
        "id": "C09I4DXCm14Y",
        "outputId": "1f68a4ae-a924-4a75-d82b-c9e2a7819ba4"
      },
      "execution_count": 98,
      "outputs": [
        {
          "output_type": "execute_result",
          "data": {
            "text/plain": [
              "{'colsample_bytree': 1,\n",
              " 'gamma': 4,\n",
              " 'max_depth': 9,\n",
              " 'min_child_weight': 2,\n",
              " 'subsample': 1}"
            ]
          },
          "metadata": {},
          "execution_count": 98
        }
      ]
    },
    {
      "cell_type": "code",
      "source": [
        "xgb_hyp =  XGBClassifier(**params_xgb, random_state=123)"
      ],
      "metadata": {
        "id": "OeRefocCvlnm"
      },
      "execution_count": 99,
      "outputs": []
    },
    {
      "cell_type": "code",
      "source": [
        "xgb_hyp.fit(X_train, Y_train)"
      ],
      "metadata": {
        "colab": {
          "base_uri": "https://localhost:8080/",
          "height": 236
        },
        "id": "zamOX9ALvnXL",
        "outputId": "73d55e08-aa58-40e0-cd9e-bb367147cce1"
      },
      "execution_count": 100,
      "outputs": [
        {
          "output_type": "execute_result",
          "data": {
            "text/plain": [
              "XGBClassifier(base_score=None, booster=None, callbacks=None,\n",
              "              colsample_bylevel=None, colsample_bynode=None, colsample_bytree=1,\n",
              "              device=None, early_stopping_rounds=None, enable_categorical=False,\n",
              "              eval_metric=None, feature_types=None, gamma=4, grow_policy=None,\n",
              "              importance_type=None, interaction_constraints=None,\n",
              "              learning_rate=None, max_bin=None, max_cat_threshold=None,\n",
              "              max_cat_to_onehot=None, max_delta_step=None, max_depth=9,\n",
              "              max_leaves=None, min_child_weight=2, missing=nan,\n",
              "              monotone_constraints=None, multi_strategy=None, n_estimators=None,\n",
              "              n_jobs=None, num_parallel_tree=None, random_state=123, ...)"
            ],
            "text/html": [
              "<style>#sk-container-id-1 {\n",
              "  /* Definition of color scheme common for light and dark mode */\n",
              "  --sklearn-color-text: #000;\n",
              "  --sklearn-color-text-muted: #666;\n",
              "  --sklearn-color-line: gray;\n",
              "  /* Definition of color scheme for unfitted estimators */\n",
              "  --sklearn-color-unfitted-level-0: #fff5e6;\n",
              "  --sklearn-color-unfitted-level-1: #f6e4d2;\n",
              "  --sklearn-color-unfitted-level-2: #ffe0b3;\n",
              "  --sklearn-color-unfitted-level-3: chocolate;\n",
              "  /* Definition of color scheme for fitted estimators */\n",
              "  --sklearn-color-fitted-level-0: #f0f8ff;\n",
              "  --sklearn-color-fitted-level-1: #d4ebff;\n",
              "  --sklearn-color-fitted-level-2: #b3dbfd;\n",
              "  --sklearn-color-fitted-level-3: cornflowerblue;\n",
              "\n",
              "  /* Specific color for light theme */\n",
              "  --sklearn-color-text-on-default-background: var(--sg-text-color, var(--theme-code-foreground, var(--jp-content-font-color1, black)));\n",
              "  --sklearn-color-background: var(--sg-background-color, var(--theme-background, var(--jp-layout-color0, white)));\n",
              "  --sklearn-color-border-box: var(--sg-text-color, var(--theme-code-foreground, var(--jp-content-font-color1, black)));\n",
              "  --sklearn-color-icon: #696969;\n",
              "\n",
              "  @media (prefers-color-scheme: dark) {\n",
              "    /* Redefinition of color scheme for dark theme */\n",
              "    --sklearn-color-text-on-default-background: var(--sg-text-color, var(--theme-code-foreground, var(--jp-content-font-color1, white)));\n",
              "    --sklearn-color-background: var(--sg-background-color, var(--theme-background, var(--jp-layout-color0, #111)));\n",
              "    --sklearn-color-border-box: var(--sg-text-color, var(--theme-code-foreground, var(--jp-content-font-color1, white)));\n",
              "    --sklearn-color-icon: #878787;\n",
              "  }\n",
              "}\n",
              "\n",
              "#sk-container-id-1 {\n",
              "  color: var(--sklearn-color-text);\n",
              "}\n",
              "\n",
              "#sk-container-id-1 pre {\n",
              "  padding: 0;\n",
              "}\n",
              "\n",
              "#sk-container-id-1 input.sk-hidden--visually {\n",
              "  border: 0;\n",
              "  clip: rect(1px 1px 1px 1px);\n",
              "  clip: rect(1px, 1px, 1px, 1px);\n",
              "  height: 1px;\n",
              "  margin: -1px;\n",
              "  overflow: hidden;\n",
              "  padding: 0;\n",
              "  position: absolute;\n",
              "  width: 1px;\n",
              "}\n",
              "\n",
              "#sk-container-id-1 div.sk-dashed-wrapped {\n",
              "  border: 1px dashed var(--sklearn-color-line);\n",
              "  margin: 0 0.4em 0.5em 0.4em;\n",
              "  box-sizing: border-box;\n",
              "  padding-bottom: 0.4em;\n",
              "  background-color: var(--sklearn-color-background);\n",
              "}\n",
              "\n",
              "#sk-container-id-1 div.sk-container {\n",
              "  /* jupyter's `normalize.less` sets `[hidden] { display: none; }`\n",
              "     but bootstrap.min.css set `[hidden] { display: none !important; }`\n",
              "     so we also need the `!important` here to be able to override the\n",
              "     default hidden behavior on the sphinx rendered scikit-learn.org.\n",
              "     See: https://github.com/scikit-learn/scikit-learn/issues/21755 */\n",
              "  display: inline-block !important;\n",
              "  position: relative;\n",
              "}\n",
              "\n",
              "#sk-container-id-1 div.sk-text-repr-fallback {\n",
              "  display: none;\n",
              "}\n",
              "\n",
              "div.sk-parallel-item,\n",
              "div.sk-serial,\n",
              "div.sk-item {\n",
              "  /* draw centered vertical line to link estimators */\n",
              "  background-image: linear-gradient(var(--sklearn-color-text-on-default-background), var(--sklearn-color-text-on-default-background));\n",
              "  background-size: 2px 100%;\n",
              "  background-repeat: no-repeat;\n",
              "  background-position: center center;\n",
              "}\n",
              "\n",
              "/* Parallel-specific style estimator block */\n",
              "\n",
              "#sk-container-id-1 div.sk-parallel-item::after {\n",
              "  content: \"\";\n",
              "  width: 100%;\n",
              "  border-bottom: 2px solid var(--sklearn-color-text-on-default-background);\n",
              "  flex-grow: 1;\n",
              "}\n",
              "\n",
              "#sk-container-id-1 div.sk-parallel {\n",
              "  display: flex;\n",
              "  align-items: stretch;\n",
              "  justify-content: center;\n",
              "  background-color: var(--sklearn-color-background);\n",
              "  position: relative;\n",
              "}\n",
              "\n",
              "#sk-container-id-1 div.sk-parallel-item {\n",
              "  display: flex;\n",
              "  flex-direction: column;\n",
              "}\n",
              "\n",
              "#sk-container-id-1 div.sk-parallel-item:first-child::after {\n",
              "  align-self: flex-end;\n",
              "  width: 50%;\n",
              "}\n",
              "\n",
              "#sk-container-id-1 div.sk-parallel-item:last-child::after {\n",
              "  align-self: flex-start;\n",
              "  width: 50%;\n",
              "}\n",
              "\n",
              "#sk-container-id-1 div.sk-parallel-item:only-child::after {\n",
              "  width: 0;\n",
              "}\n",
              "\n",
              "/* Serial-specific style estimator block */\n",
              "\n",
              "#sk-container-id-1 div.sk-serial {\n",
              "  display: flex;\n",
              "  flex-direction: column;\n",
              "  align-items: center;\n",
              "  background-color: var(--sklearn-color-background);\n",
              "  padding-right: 1em;\n",
              "  padding-left: 1em;\n",
              "}\n",
              "\n",
              "\n",
              "/* Toggleable style: style used for estimator/Pipeline/ColumnTransformer box that is\n",
              "clickable and can be expanded/collapsed.\n",
              "- Pipeline and ColumnTransformer use this feature and define the default style\n",
              "- Estimators will overwrite some part of the style using the `sk-estimator` class\n",
              "*/\n",
              "\n",
              "/* Pipeline and ColumnTransformer style (default) */\n",
              "\n",
              "#sk-container-id-1 div.sk-toggleable {\n",
              "  /* Default theme specific background. It is overwritten whether we have a\n",
              "  specific estimator or a Pipeline/ColumnTransformer */\n",
              "  background-color: var(--sklearn-color-background);\n",
              "}\n",
              "\n",
              "/* Toggleable label */\n",
              "#sk-container-id-1 label.sk-toggleable__label {\n",
              "  cursor: pointer;\n",
              "  display: flex;\n",
              "  width: 100%;\n",
              "  margin-bottom: 0;\n",
              "  padding: 0.5em;\n",
              "  box-sizing: border-box;\n",
              "  text-align: center;\n",
              "  align-items: start;\n",
              "  justify-content: space-between;\n",
              "  gap: 0.5em;\n",
              "}\n",
              "\n",
              "#sk-container-id-1 label.sk-toggleable__label .caption {\n",
              "  font-size: 0.6rem;\n",
              "  font-weight: lighter;\n",
              "  color: var(--sklearn-color-text-muted);\n",
              "}\n",
              "\n",
              "#sk-container-id-1 label.sk-toggleable__label-arrow:before {\n",
              "  /* Arrow on the left of the label */\n",
              "  content: \"▸\";\n",
              "  float: left;\n",
              "  margin-right: 0.25em;\n",
              "  color: var(--sklearn-color-icon);\n",
              "}\n",
              "\n",
              "#sk-container-id-1 label.sk-toggleable__label-arrow:hover:before {\n",
              "  color: var(--sklearn-color-text);\n",
              "}\n",
              "\n",
              "/* Toggleable content - dropdown */\n",
              "\n",
              "#sk-container-id-1 div.sk-toggleable__content {\n",
              "  max-height: 0;\n",
              "  max-width: 0;\n",
              "  overflow: hidden;\n",
              "  text-align: left;\n",
              "  /* unfitted */\n",
              "  background-color: var(--sklearn-color-unfitted-level-0);\n",
              "}\n",
              "\n",
              "#sk-container-id-1 div.sk-toggleable__content.fitted {\n",
              "  /* fitted */\n",
              "  background-color: var(--sklearn-color-fitted-level-0);\n",
              "}\n",
              "\n",
              "#sk-container-id-1 div.sk-toggleable__content pre {\n",
              "  margin: 0.2em;\n",
              "  border-radius: 0.25em;\n",
              "  color: var(--sklearn-color-text);\n",
              "  /* unfitted */\n",
              "  background-color: var(--sklearn-color-unfitted-level-0);\n",
              "}\n",
              "\n",
              "#sk-container-id-1 div.sk-toggleable__content.fitted pre {\n",
              "  /* unfitted */\n",
              "  background-color: var(--sklearn-color-fitted-level-0);\n",
              "}\n",
              "\n",
              "#sk-container-id-1 input.sk-toggleable__control:checked~div.sk-toggleable__content {\n",
              "  /* Expand drop-down */\n",
              "  max-height: 200px;\n",
              "  max-width: 100%;\n",
              "  overflow: auto;\n",
              "}\n",
              "\n",
              "#sk-container-id-1 input.sk-toggleable__control:checked~label.sk-toggleable__label-arrow:before {\n",
              "  content: \"▾\";\n",
              "}\n",
              "\n",
              "/* Pipeline/ColumnTransformer-specific style */\n",
              "\n",
              "#sk-container-id-1 div.sk-label input.sk-toggleable__control:checked~label.sk-toggleable__label {\n",
              "  color: var(--sklearn-color-text);\n",
              "  background-color: var(--sklearn-color-unfitted-level-2);\n",
              "}\n",
              "\n",
              "#sk-container-id-1 div.sk-label.fitted input.sk-toggleable__control:checked~label.sk-toggleable__label {\n",
              "  background-color: var(--sklearn-color-fitted-level-2);\n",
              "}\n",
              "\n",
              "/* Estimator-specific style */\n",
              "\n",
              "/* Colorize estimator box */\n",
              "#sk-container-id-1 div.sk-estimator input.sk-toggleable__control:checked~label.sk-toggleable__label {\n",
              "  /* unfitted */\n",
              "  background-color: var(--sklearn-color-unfitted-level-2);\n",
              "}\n",
              "\n",
              "#sk-container-id-1 div.sk-estimator.fitted input.sk-toggleable__control:checked~label.sk-toggleable__label {\n",
              "  /* fitted */\n",
              "  background-color: var(--sklearn-color-fitted-level-2);\n",
              "}\n",
              "\n",
              "#sk-container-id-1 div.sk-label label.sk-toggleable__label,\n",
              "#sk-container-id-1 div.sk-label label {\n",
              "  /* The background is the default theme color */\n",
              "  color: var(--sklearn-color-text-on-default-background);\n",
              "}\n",
              "\n",
              "/* On hover, darken the color of the background */\n",
              "#sk-container-id-1 div.sk-label:hover label.sk-toggleable__label {\n",
              "  color: var(--sklearn-color-text);\n",
              "  background-color: var(--sklearn-color-unfitted-level-2);\n",
              "}\n",
              "\n",
              "/* Label box, darken color on hover, fitted */\n",
              "#sk-container-id-1 div.sk-label.fitted:hover label.sk-toggleable__label.fitted {\n",
              "  color: var(--sklearn-color-text);\n",
              "  background-color: var(--sklearn-color-fitted-level-2);\n",
              "}\n",
              "\n",
              "/* Estimator label */\n",
              "\n",
              "#sk-container-id-1 div.sk-label label {\n",
              "  font-family: monospace;\n",
              "  font-weight: bold;\n",
              "  display: inline-block;\n",
              "  line-height: 1.2em;\n",
              "}\n",
              "\n",
              "#sk-container-id-1 div.sk-label-container {\n",
              "  text-align: center;\n",
              "}\n",
              "\n",
              "/* Estimator-specific */\n",
              "#sk-container-id-1 div.sk-estimator {\n",
              "  font-family: monospace;\n",
              "  border: 1px dotted var(--sklearn-color-border-box);\n",
              "  border-radius: 0.25em;\n",
              "  box-sizing: border-box;\n",
              "  margin-bottom: 0.5em;\n",
              "  /* unfitted */\n",
              "  background-color: var(--sklearn-color-unfitted-level-0);\n",
              "}\n",
              "\n",
              "#sk-container-id-1 div.sk-estimator.fitted {\n",
              "  /* fitted */\n",
              "  background-color: var(--sklearn-color-fitted-level-0);\n",
              "}\n",
              "\n",
              "/* on hover */\n",
              "#sk-container-id-1 div.sk-estimator:hover {\n",
              "  /* unfitted */\n",
              "  background-color: var(--sklearn-color-unfitted-level-2);\n",
              "}\n",
              "\n",
              "#sk-container-id-1 div.sk-estimator.fitted:hover {\n",
              "  /* fitted */\n",
              "  background-color: var(--sklearn-color-fitted-level-2);\n",
              "}\n",
              "\n",
              "/* Specification for estimator info (e.g. \"i\" and \"?\") */\n",
              "\n",
              "/* Common style for \"i\" and \"?\" */\n",
              "\n",
              ".sk-estimator-doc-link,\n",
              "a:link.sk-estimator-doc-link,\n",
              "a:visited.sk-estimator-doc-link {\n",
              "  float: right;\n",
              "  font-size: smaller;\n",
              "  line-height: 1em;\n",
              "  font-family: monospace;\n",
              "  background-color: var(--sklearn-color-background);\n",
              "  border-radius: 1em;\n",
              "  height: 1em;\n",
              "  width: 1em;\n",
              "  text-decoration: none !important;\n",
              "  margin-left: 0.5em;\n",
              "  text-align: center;\n",
              "  /* unfitted */\n",
              "  border: var(--sklearn-color-unfitted-level-1) 1pt solid;\n",
              "  color: var(--sklearn-color-unfitted-level-1);\n",
              "}\n",
              "\n",
              ".sk-estimator-doc-link.fitted,\n",
              "a:link.sk-estimator-doc-link.fitted,\n",
              "a:visited.sk-estimator-doc-link.fitted {\n",
              "  /* fitted */\n",
              "  border: var(--sklearn-color-fitted-level-1) 1pt solid;\n",
              "  color: var(--sklearn-color-fitted-level-1);\n",
              "}\n",
              "\n",
              "/* On hover */\n",
              "div.sk-estimator:hover .sk-estimator-doc-link:hover,\n",
              ".sk-estimator-doc-link:hover,\n",
              "div.sk-label-container:hover .sk-estimator-doc-link:hover,\n",
              ".sk-estimator-doc-link:hover {\n",
              "  /* unfitted */\n",
              "  background-color: var(--sklearn-color-unfitted-level-3);\n",
              "  color: var(--sklearn-color-background);\n",
              "  text-decoration: none;\n",
              "}\n",
              "\n",
              "div.sk-estimator.fitted:hover .sk-estimator-doc-link.fitted:hover,\n",
              ".sk-estimator-doc-link.fitted:hover,\n",
              "div.sk-label-container:hover .sk-estimator-doc-link.fitted:hover,\n",
              ".sk-estimator-doc-link.fitted:hover {\n",
              "  /* fitted */\n",
              "  background-color: var(--sklearn-color-fitted-level-3);\n",
              "  color: var(--sklearn-color-background);\n",
              "  text-decoration: none;\n",
              "}\n",
              "\n",
              "/* Span, style for the box shown on hovering the info icon */\n",
              ".sk-estimator-doc-link span {\n",
              "  display: none;\n",
              "  z-index: 9999;\n",
              "  position: relative;\n",
              "  font-weight: normal;\n",
              "  right: .2ex;\n",
              "  padding: .5ex;\n",
              "  margin: .5ex;\n",
              "  width: min-content;\n",
              "  min-width: 20ex;\n",
              "  max-width: 50ex;\n",
              "  color: var(--sklearn-color-text);\n",
              "  box-shadow: 2pt 2pt 4pt #999;\n",
              "  /* unfitted */\n",
              "  background: var(--sklearn-color-unfitted-level-0);\n",
              "  border: .5pt solid var(--sklearn-color-unfitted-level-3);\n",
              "}\n",
              "\n",
              ".sk-estimator-doc-link.fitted span {\n",
              "  /* fitted */\n",
              "  background: var(--sklearn-color-fitted-level-0);\n",
              "  border: var(--sklearn-color-fitted-level-3);\n",
              "}\n",
              "\n",
              ".sk-estimator-doc-link:hover span {\n",
              "  display: block;\n",
              "}\n",
              "\n",
              "/* \"?\"-specific style due to the `<a>` HTML tag */\n",
              "\n",
              "#sk-container-id-1 a.estimator_doc_link {\n",
              "  float: right;\n",
              "  font-size: 1rem;\n",
              "  line-height: 1em;\n",
              "  font-family: monospace;\n",
              "  background-color: var(--sklearn-color-background);\n",
              "  border-radius: 1rem;\n",
              "  height: 1rem;\n",
              "  width: 1rem;\n",
              "  text-decoration: none;\n",
              "  /* unfitted */\n",
              "  color: var(--sklearn-color-unfitted-level-1);\n",
              "  border: var(--sklearn-color-unfitted-level-1) 1pt solid;\n",
              "}\n",
              "\n",
              "#sk-container-id-1 a.estimator_doc_link.fitted {\n",
              "  /* fitted */\n",
              "  border: var(--sklearn-color-fitted-level-1) 1pt solid;\n",
              "  color: var(--sklearn-color-fitted-level-1);\n",
              "}\n",
              "\n",
              "/* On hover */\n",
              "#sk-container-id-1 a.estimator_doc_link:hover {\n",
              "  /* unfitted */\n",
              "  background-color: var(--sklearn-color-unfitted-level-3);\n",
              "  color: var(--sklearn-color-background);\n",
              "  text-decoration: none;\n",
              "}\n",
              "\n",
              "#sk-container-id-1 a.estimator_doc_link.fitted:hover {\n",
              "  /* fitted */\n",
              "  background-color: var(--sklearn-color-fitted-level-3);\n",
              "}\n",
              "</style><div id=\"sk-container-id-1\" class=\"sk-top-container\"><div class=\"sk-text-repr-fallback\"><pre>XGBClassifier(base_score=None, booster=None, callbacks=None,\n",
              "              colsample_bylevel=None, colsample_bynode=None, colsample_bytree=1,\n",
              "              device=None, early_stopping_rounds=None, enable_categorical=False,\n",
              "              eval_metric=None, feature_types=None, gamma=4, grow_policy=None,\n",
              "              importance_type=None, interaction_constraints=None,\n",
              "              learning_rate=None, max_bin=None, max_cat_threshold=None,\n",
              "              max_cat_to_onehot=None, max_delta_step=None, max_depth=9,\n",
              "              max_leaves=None, min_child_weight=2, missing=nan,\n",
              "              monotone_constraints=None, multi_strategy=None, n_estimators=None,\n",
              "              n_jobs=None, num_parallel_tree=None, random_state=123, ...)</pre><b>In a Jupyter environment, please rerun this cell to show the HTML representation or trust the notebook. <br />On GitHub, the HTML representation is unable to render, please try loading this page with nbviewer.org.</b></div><div class=\"sk-container\" hidden><div class=\"sk-item\"><div class=\"sk-estimator fitted sk-toggleable\"><input class=\"sk-toggleable__control sk-hidden--visually\" id=\"sk-estimator-id-1\" type=\"checkbox\" checked><label for=\"sk-estimator-id-1\" class=\"sk-toggleable__label fitted sk-toggleable__label-arrow\"><div><div>XGBClassifier</div></div><div><span class=\"sk-estimator-doc-link fitted\">i<span>Fitted</span></span></div></label><div class=\"sk-toggleable__content fitted\"><pre>XGBClassifier(base_score=None, booster=None, callbacks=None,\n",
              "              colsample_bylevel=None, colsample_bynode=None, colsample_bytree=1,\n",
              "              device=None, early_stopping_rounds=None, enable_categorical=False,\n",
              "              eval_metric=None, feature_types=None, gamma=4, grow_policy=None,\n",
              "              importance_type=None, interaction_constraints=None,\n",
              "              learning_rate=None, max_bin=None, max_cat_threshold=None,\n",
              "              max_cat_to_onehot=None, max_delta_step=None, max_depth=9,\n",
              "              max_leaves=None, min_child_weight=2, missing=nan,\n",
              "              monotone_constraints=None, multi_strategy=None, n_estimators=None,\n",
              "              n_jobs=None, num_parallel_tree=None, random_state=123, ...)</pre></div> </div></div></div></div>"
            ]
          },
          "metadata": {},
          "execution_count": 100
        }
      ]
    },
    {
      "cell_type": "code",
      "source": [
        "# Predict the validation data\n",
        "pred_xgb = xgb_hyp.predict(X_test)\n",
        "\n",
        "# Compute the accuracy\n",
        "print('Accuracy: ' + str(accuracy_score(Y_test, pred_xgb)))"
      ],
      "metadata": {
        "colab": {
          "base_uri": "https://localhost:8080/"
        },
        "id": "0xdqA6B_vrgs",
        "outputId": "b7c41bd4-569b-4161-de31-f392c48d8829"
      },
      "execution_count": 101,
      "outputs": [
        {
          "output_type": "stream",
          "name": "stdout",
          "text": [
            "Accuracy: 0.9480337078651685\n"
          ]
        }
      ]
    },
    {
      "cell_type": "code",
      "source": [
        "pred_xgb = pd.DataFrame(pred_xgb)"
      ],
      "metadata": {
        "id": "qTcoFARkvtEq"
      },
      "execution_count": 102,
      "outputs": []
    },
    {
      "cell_type": "code",
      "source": [
        "pred_xgb.rename(columns = {0 : \"Predict\"}, inplace=True)"
      ],
      "metadata": {
        "id": "1IwYGS7OvvT3"
      },
      "execution_count": 103,
      "outputs": []
    },
    {
      "cell_type": "code",
      "source": [
        "pred_xgb.value_counts()"
      ],
      "metadata": {
        "colab": {
          "base_uri": "https://localhost:8080/",
          "height": 178
        },
        "id": "xKuUvbBsvxrW",
        "outputId": "20e26aa3-eba5-433d-df29-5b52268cf6d1"
      },
      "execution_count": 104,
      "outputs": [
        {
          "output_type": "execute_result",
          "data": {
            "text/plain": [
              "Predict\n",
              "0          1077\n",
              "1          1059\n",
              "Name: count, dtype: int64"
            ],
            "text/html": [
              "<div>\n",
              "<style scoped>\n",
              "    .dataframe tbody tr th:only-of-type {\n",
              "        vertical-align: middle;\n",
              "    }\n",
              "\n",
              "    .dataframe tbody tr th {\n",
              "        vertical-align: top;\n",
              "    }\n",
              "\n",
              "    .dataframe thead th {\n",
              "        text-align: right;\n",
              "    }\n",
              "</style>\n",
              "<table border=\"1\" class=\"dataframe\">\n",
              "  <thead>\n",
              "    <tr style=\"text-align: right;\">\n",
              "      <th></th>\n",
              "      <th>count</th>\n",
              "    </tr>\n",
              "    <tr>\n",
              "      <th>Predict</th>\n",
              "      <th></th>\n",
              "    </tr>\n",
              "  </thead>\n",
              "  <tbody>\n",
              "    <tr>\n",
              "      <th>0</th>\n",
              "      <td>1077</td>\n",
              "    </tr>\n",
              "    <tr>\n",
              "      <th>1</th>\n",
              "      <td>1059</td>\n",
              "    </tr>\n",
              "  </tbody>\n",
              "</table>\n",
              "</div><br><label><b>dtype:</b> int64</label>"
            ]
          },
          "metadata": {},
          "execution_count": 104
        }
      ]
    },
    {
      "cell_type": "code",
      "source": [
        "import pickle\n",
        "\n",
        "# Save model to a pickle file\n",
        "with open('xgb_hyp.pkl', 'wb') as file:\n",
        "    pickle.dump(xgb_hyp, file)\n"
      ],
      "metadata": {
        "id": "5tfoeyVLv0To"
      },
      "execution_count": 105,
      "outputs": []
    },
    {
      "cell_type": "code",
      "source": [
        "import joblib\n",
        "\n",
        "# Save model to a joblib file\n",
        "joblib.dump(xgb_hyp, 'xgb_hyp.joblib')\n"
      ],
      "metadata": {
        "colab": {
          "base_uri": "https://localhost:8080/"
        },
        "id": "-6RSslRsyk2-",
        "outputId": "65a1ef55-a48a-4ca5-b5e7-e399ea9b96ed"
      },
      "execution_count": 106,
      "outputs": [
        {
          "output_type": "execute_result",
          "data": {
            "text/plain": [
              "['xgb_hyp.joblib']"
            ]
          },
          "metadata": {},
          "execution_count": 106
        }
      ]
    },
    {
      "cell_type": "markdown",
      "source": [
        "#### **Random Forest Classifier - Using Bayesian Optimization**"
      ],
      "metadata": {
        "id": "DfLEi4Vvy2_0"
      }
    },
    {
      "cell_type": "code",
      "source": [
        "from sklearn.ensemble import RandomForestClassifier"
      ],
      "metadata": {
        "id": "pHlJCOCFyten"
      },
      "execution_count": 107,
      "outputs": []
    },
    {
      "cell_type": "code",
      "source": [
        "def rfc_cl_bo(n_estimators, max_features, max_depth, min_samples_split, min_samples_leaf):\n",
        "    params_rfc = {}\n",
        "    params_rfc['n_estimators'] = int(n_estimators)\n",
        "    params_rfc['max_features'] = max_features\n",
        "    params_rfc['max_depth'] = round(max_depth)\n",
        "    params_rfc['min_samples_split'] = int(min_samples_split)\n",
        "    params_rfc['min_samples_leaf'] = int(min_samples_leaf)\n",
        "    scores = cross_val_score(RandomForestClassifier(random_state=123, **params_rfc),\n",
        "                             X_train, Y_train, scoring=accuracy, cv=5).mean()\n",
        "    score = scores.mean()\n",
        "    score = -score\n",
        "    return score\n",
        "# Run Bayesian Optimization\n",
        "start = time.time()\n",
        "params_rfc ={\n",
        "    'n_estimators':(80, 300),\n",
        "    'max_features':(0.8, 1),\n",
        "    'max_depth':(1, 250),\n",
        "    'min_samples_split':(2, 20),\n",
        "    'min_samples_leaf' :(1, 40)\n",
        "}"
      ],
      "metadata": {
        "id": "XhaCCABJy89C"
      },
      "execution_count": 108,
      "outputs": []
    },
    {
      "cell_type": "code",
      "source": [
        "rfc_bo = BayesianOptimization(rfc_cl_bo, params_rfc)\n",
        "rfc_bo.maximize(init_points=30, n_iter=4)\n",
        "print('It takes %s minutes' % ((time.time() - start)/60))"
      ],
      "metadata": {
        "colab": {
          "base_uri": "https://localhost:8080/"
        },
        "id": "oYCpEys6y_Ai",
        "outputId": "54b31b39-73ac-4c35-b9cc-0f5b3e9d891c"
      },
      "execution_count": 109,
      "outputs": [
        {
          "output_type": "stream",
          "name": "stdout",
          "text": [
            "|   iter    |  target   | max_depth | max_fe... | min_sa... | min_sa... | n_esti... |\n",
            "-------------------------------------------------------------------------------------\n",
            "| \u001b[39m1        \u001b[39m | \u001b[39m0.9336   \u001b[39m | \u001b[39m47.32    \u001b[39m | \u001b[39m0.8648   \u001b[39m | \u001b[39m12.14    \u001b[39m | \u001b[39m10.75    \u001b[39m | \u001b[39m181.6    \u001b[39m |\n",
            "| \u001b[39m2        \u001b[39m | \u001b[39m0.9158   \u001b[39m | \u001b[39m238.0    \u001b[39m | \u001b[39m0.9706   \u001b[39m | \u001b[39m35.4     \u001b[39m | \u001b[39m6.929    \u001b[39m | \u001b[39m125.6    \u001b[39m |\n",
            "| \u001b[39m3        \u001b[39m | \u001b[39m0.9185   \u001b[39m | \u001b[39m229.7    \u001b[39m | \u001b[39m0.9272   \u001b[39m | \u001b[39m31.06    \u001b[39m | \u001b[39m17.11    \u001b[39m | \u001b[39m161.1    \u001b[39m |\n",
            "| \u001b[39m4        \u001b[39m | \u001b[39m0.9279   \u001b[39m | \u001b[39m7.608    \u001b[39m | \u001b[39m0.867    \u001b[39m | \u001b[39m12.62    \u001b[39m | \u001b[39m5.561    \u001b[39m | \u001b[39m263.0    \u001b[39m |\n",
            "| \u001b[39m5        \u001b[39m | \u001b[39m0.9221   \u001b[39m | \u001b[39m181.5    \u001b[39m | \u001b[39m0.984    \u001b[39m | \u001b[39m25.38    \u001b[39m | \u001b[39m18.27    \u001b[39m | \u001b[39m291.7    \u001b[39m |\n",
            "| \u001b[39m6        \u001b[39m | \u001b[39m0.9312   \u001b[39m | \u001b[39m105.2    \u001b[39m | \u001b[39m0.9061   \u001b[39m | \u001b[39m15.28    \u001b[39m | \u001b[39m11.88    \u001b[39m | \u001b[39m154.1    \u001b[39m |\n",
            "| \u001b[39m7        \u001b[39m | \u001b[39m0.9197   \u001b[39m | \u001b[39m111.6    \u001b[39m | \u001b[39m0.8852   \u001b[39m | \u001b[39m32.81    \u001b[39m | \u001b[39m10.74    \u001b[39m | \u001b[39m176.5    \u001b[39m |\n",
            "| \u001b[39m8        \u001b[39m | \u001b[39m0.9125   \u001b[39m | \u001b[39m201.7    \u001b[39m | \u001b[39m0.9928   \u001b[39m | \u001b[39m38.92    \u001b[39m | \u001b[39m11.05    \u001b[39m | \u001b[39m263.1    \u001b[39m |\n",
            "| \u001b[39m9        \u001b[39m | \u001b[39m0.9168   \u001b[39m | \u001b[39m155.9    \u001b[39m | \u001b[39m0.8583   \u001b[39m | \u001b[39m36.34    \u001b[39m | \u001b[39m17.37    \u001b[39m | \u001b[39m298.3    \u001b[39m |\n",
            "| \u001b[39m10       \u001b[39m | \u001b[39m0.9118   \u001b[39m | \u001b[39m218.5    \u001b[39m | \u001b[39m0.9661   \u001b[39m | \u001b[39m39.28    \u001b[39m | \u001b[39m7.161    \u001b[39m | \u001b[39m276.3    \u001b[39m |\n",
            "| \u001b[39m11       \u001b[39m | \u001b[39m0.9319   \u001b[39m | \u001b[39m56.66    \u001b[39m | \u001b[39m0.9669   \u001b[39m | \u001b[39m13.3     \u001b[39m | \u001b[39m17.05    \u001b[39m | \u001b[39m157.2    \u001b[39m |\n",
            "| \u001b[39m12       \u001b[39m | \u001b[39m0.9301   \u001b[39m | \u001b[39m91.39    \u001b[39m | \u001b[39m0.8456   \u001b[39m | \u001b[39m18.48    \u001b[39m | \u001b[39m14.33    \u001b[39m | \u001b[39m205.3    \u001b[39m |\n",
            "| \u001b[39m13       \u001b[39m | \u001b[39m0.9184   \u001b[39m | \u001b[39m209.1    \u001b[39m | \u001b[39m0.8053   \u001b[39m | \u001b[39m37.88    \u001b[39m | \u001b[39m9.939    \u001b[39m | \u001b[39m249.8    \u001b[39m |\n",
            "| \u001b[39m14       \u001b[39m | \u001b[39m0.9196   \u001b[39m | \u001b[39m10.82    \u001b[39m | \u001b[39m0.9576   \u001b[39m | \u001b[39m29.69    \u001b[39m | \u001b[39m12.71    \u001b[39m | \u001b[39m186.2    \u001b[39m |\n",
            "| \u001b[39m15       \u001b[39m | \u001b[39m0.9302   \u001b[39m | \u001b[39m193.2    \u001b[39m | \u001b[39m0.8568   \u001b[39m | \u001b[39m18.85    \u001b[39m | \u001b[39m7.672    \u001b[39m | \u001b[39m196.1    \u001b[39m |\n",
            "| \u001b[39m16       \u001b[39m | \u001b[39m0.9291   \u001b[39m | \u001b[39m225.2    \u001b[39m | \u001b[39m0.9028   \u001b[39m | \u001b[39m20.67    \u001b[39m | \u001b[39m4.046    \u001b[39m | \u001b[39m137.8    \u001b[39m |\n",
            "| \u001b[35m17       \u001b[39m | \u001b[35m0.9443   \u001b[39m | \u001b[35m240.5    \u001b[39m | \u001b[35m0.8473   \u001b[39m | \u001b[35m1.402    \u001b[39m | \u001b[35m5.739    \u001b[39m | \u001b[35m282.3    \u001b[39m |\n",
            "| \u001b[39m18       \u001b[39m | \u001b[39m0.935    \u001b[39m | \u001b[39m220.6    \u001b[39m | \u001b[39m0.8627   \u001b[39m | \u001b[39m12.52    \u001b[39m | \u001b[39m9.006    \u001b[39m | \u001b[39m85.75    \u001b[39m |\n",
            "| \u001b[39m19       \u001b[39m | \u001b[39m0.9261   \u001b[39m | \u001b[39m249.7    \u001b[39m | \u001b[39m0.8099   \u001b[39m | \u001b[39m24.32    \u001b[39m | \u001b[39m6.872    \u001b[39m | \u001b[39m237.5    \u001b[39m |\n",
            "| \u001b[39m20       \u001b[39m | \u001b[39m0.9294   \u001b[39m | \u001b[39m201.4    \u001b[39m | \u001b[39m0.8804   \u001b[39m | \u001b[39m19.96    \u001b[39m | \u001b[39m19.01    \u001b[39m | \u001b[39m241.7    \u001b[39m |\n",
            "| \u001b[39m21       \u001b[39m | \u001b[39m0.9144   \u001b[39m | \u001b[39m211.4    \u001b[39m | \u001b[39m0.8762   \u001b[39m | \u001b[39m39.59    \u001b[39m | \u001b[39m5.695    \u001b[39m | \u001b[39m120.5    \u001b[39m |\n",
            "| \u001b[39m22       \u001b[39m | \u001b[39m0.9124   \u001b[39m | \u001b[39m207.4    \u001b[39m | \u001b[39m0.9702   \u001b[39m | \u001b[39m38.01    \u001b[39m | \u001b[39m18.91    \u001b[39m | \u001b[39m168.0    \u001b[39m |\n",
            "| \u001b[39m23       \u001b[39m | \u001b[39m0.9273   \u001b[39m | \u001b[39m152.9    \u001b[39m | \u001b[39m0.922    \u001b[39m | \u001b[39m18.27    \u001b[39m | \u001b[39m7.451    \u001b[39m | \u001b[39m256.3    \u001b[39m |\n",
            "| \u001b[39m24       \u001b[39m | \u001b[39m0.9196   \u001b[39m | \u001b[39m206.3    \u001b[39m | \u001b[39m0.974    \u001b[39m | \u001b[39m29.17    \u001b[39m | \u001b[39m8.222    \u001b[39m | \u001b[39m113.0    \u001b[39m |\n",
            "| \u001b[39m25       \u001b[39m | \u001b[39m0.9404   \u001b[39m | \u001b[39m198.1    \u001b[39m | \u001b[39m0.8468   \u001b[39m | \u001b[39m5.792    \u001b[39m | \u001b[39m14.67    \u001b[39m | \u001b[39m117.2    \u001b[39m |\n",
            "| \u001b[39m26       \u001b[39m | \u001b[39m0.9373   \u001b[39m | \u001b[39m69.72    \u001b[39m | \u001b[39m0.9694   \u001b[39m | \u001b[39m6.409    \u001b[39m | \u001b[39m17.96    \u001b[39m | \u001b[39m191.8    \u001b[39m |\n",
            "| \u001b[39m27       \u001b[39m | \u001b[39m0.9211   \u001b[39m | \u001b[39m152.6    \u001b[39m | \u001b[39m0.9954   \u001b[39m | \u001b[39m27.63    \u001b[39m | \u001b[39m2.35     \u001b[39m | \u001b[39m214.9    \u001b[39m |\n",
            "| \u001b[39m28       \u001b[39m | \u001b[39m0.9227   \u001b[39m | \u001b[39m117.2    \u001b[39m | \u001b[39m0.9361   \u001b[39m | \u001b[39m24.42    \u001b[39m | \u001b[39m7.03     \u001b[39m | \u001b[39m113.8    \u001b[39m |\n",
            "| \u001b[39m29       \u001b[39m | \u001b[39m0.9212   \u001b[39m | \u001b[39m159.6    \u001b[39m | \u001b[39m0.8374   \u001b[39m | \u001b[39m29.94    \u001b[39m | \u001b[39m18.43    \u001b[39m | \u001b[39m246.4    \u001b[39m |\n",
            "| \u001b[39m30       \u001b[39m | \u001b[39m0.925    \u001b[39m | \u001b[39m208.2    \u001b[39m | \u001b[39m0.9082   \u001b[39m | \u001b[39m24.91    \u001b[39m | \u001b[39m4.785    \u001b[39m | \u001b[39m114.0    \u001b[39m |\n",
            "| \u001b[39m31       \u001b[39m | \u001b[39m0.9195   \u001b[39m | \u001b[39m177.3    \u001b[39m | \u001b[39m0.9668   \u001b[39m | \u001b[39m30.28    \u001b[39m | \u001b[39m16.33    \u001b[39m | \u001b[39m217.2    \u001b[39m |\n",
            "| \u001b[39m32       \u001b[39m | \u001b[39m0.941    \u001b[39m | \u001b[39m246.4    \u001b[39m | \u001b[39m0.8438   \u001b[39m | \u001b[39m1.717    \u001b[39m | \u001b[39m19.35    \u001b[39m | \u001b[39m290.7    \u001b[39m |\n",
            "| \u001b[39m33       \u001b[39m | \u001b[39m0.9422   \u001b[39m | \u001b[39m71.58    \u001b[39m | \u001b[39m0.8067   \u001b[39m | \u001b[39m4.429    \u001b[39m | \u001b[39m16.18    \u001b[39m | \u001b[39m192.9    \u001b[39m |\n",
            "| \u001b[39m34       \u001b[39m | \u001b[39m0.9408   \u001b[39m | \u001b[39m76.88    \u001b[39m | \u001b[39m0.8764   \u001b[39m | \u001b[39m5.256    \u001b[39m | \u001b[39m2.609    \u001b[39m | \u001b[39m195.7    \u001b[39m |\n",
            "=====================================================================================\n",
            "It takes 32.092298988501234 minutes\n"
          ]
        }
      ]
    },
    {
      "cell_type": "code",
      "source": [
        "params_rfc = rfc_bo.max['params']\n",
        "params_rfc['max_depth'] = round(params_rfc['max_depth'])\n",
        "params_rfc['min_samples_leaf'] = round(params_rfc['min_samples_leaf'])\n",
        "params_rfc['min_samples_split'] = round(params_rfc['min_samples_split'])\n",
        "params_rfc['n_estimators'] = round(params_rfc['n_estimators'])\n",
        "params_rfc"
      ],
      "metadata": {
        "colab": {
          "base_uri": "https://localhost:8080/"
        },
        "id": "xTPLHEaXzB_R",
        "outputId": "973e0f50-7f23-44a4-d6ac-50ccdee56ad8"
      },
      "execution_count": 110,
      "outputs": [
        {
          "output_type": "execute_result",
          "data": {
            "text/plain": [
              "{'max_depth': 240,\n",
              " 'max_features': np.float64(0.8473019458277843),\n",
              " 'min_samples_leaf': 1,\n",
              " 'min_samples_split': 6,\n",
              " 'n_estimators': 282}"
            ]
          },
          "metadata": {},
          "execution_count": 110
        }
      ]
    },
    {
      "cell_type": "code",
      "source": [
        "rfc_hyp =  RandomForestClassifier(**params_rfc, random_state=123)"
      ],
      "metadata": {
        "id": "7SEOfg-MzEfy"
      },
      "execution_count": 111,
      "outputs": []
    },
    {
      "cell_type": "code",
      "source": [
        "rfc_hyp.fit(X_train, Y_train)\n"
      ],
      "metadata": {
        "colab": {
          "base_uri": "https://localhost:8080/",
          "height": 115
        },
        "id": "3RxlD2-d0yxm",
        "outputId": "e0dc47a9-3079-455c-f03b-f7665258fc1b"
      },
      "execution_count": 112,
      "outputs": [
        {
          "output_type": "execute_result",
          "data": {
            "text/plain": [
              "RandomForestClassifier(max_depth=240,\n",
              "                       max_features=np.float64(0.8473019458277843),\n",
              "                       min_samples_split=6, n_estimators=282, random_state=123)"
            ],
            "text/html": [
              "<style>#sk-container-id-2 {\n",
              "  /* Definition of color scheme common for light and dark mode */\n",
              "  --sklearn-color-text: #000;\n",
              "  --sklearn-color-text-muted: #666;\n",
              "  --sklearn-color-line: gray;\n",
              "  /* Definition of color scheme for unfitted estimators */\n",
              "  --sklearn-color-unfitted-level-0: #fff5e6;\n",
              "  --sklearn-color-unfitted-level-1: #f6e4d2;\n",
              "  --sklearn-color-unfitted-level-2: #ffe0b3;\n",
              "  --sklearn-color-unfitted-level-3: chocolate;\n",
              "  /* Definition of color scheme for fitted estimators */\n",
              "  --sklearn-color-fitted-level-0: #f0f8ff;\n",
              "  --sklearn-color-fitted-level-1: #d4ebff;\n",
              "  --sklearn-color-fitted-level-2: #b3dbfd;\n",
              "  --sklearn-color-fitted-level-3: cornflowerblue;\n",
              "\n",
              "  /* Specific color for light theme */\n",
              "  --sklearn-color-text-on-default-background: var(--sg-text-color, var(--theme-code-foreground, var(--jp-content-font-color1, black)));\n",
              "  --sklearn-color-background: var(--sg-background-color, var(--theme-background, var(--jp-layout-color0, white)));\n",
              "  --sklearn-color-border-box: var(--sg-text-color, var(--theme-code-foreground, var(--jp-content-font-color1, black)));\n",
              "  --sklearn-color-icon: #696969;\n",
              "\n",
              "  @media (prefers-color-scheme: dark) {\n",
              "    /* Redefinition of color scheme for dark theme */\n",
              "    --sklearn-color-text-on-default-background: var(--sg-text-color, var(--theme-code-foreground, var(--jp-content-font-color1, white)));\n",
              "    --sklearn-color-background: var(--sg-background-color, var(--theme-background, var(--jp-layout-color0, #111)));\n",
              "    --sklearn-color-border-box: var(--sg-text-color, var(--theme-code-foreground, var(--jp-content-font-color1, white)));\n",
              "    --sklearn-color-icon: #878787;\n",
              "  }\n",
              "}\n",
              "\n",
              "#sk-container-id-2 {\n",
              "  color: var(--sklearn-color-text);\n",
              "}\n",
              "\n",
              "#sk-container-id-2 pre {\n",
              "  padding: 0;\n",
              "}\n",
              "\n",
              "#sk-container-id-2 input.sk-hidden--visually {\n",
              "  border: 0;\n",
              "  clip: rect(1px 1px 1px 1px);\n",
              "  clip: rect(1px, 1px, 1px, 1px);\n",
              "  height: 1px;\n",
              "  margin: -1px;\n",
              "  overflow: hidden;\n",
              "  padding: 0;\n",
              "  position: absolute;\n",
              "  width: 1px;\n",
              "}\n",
              "\n",
              "#sk-container-id-2 div.sk-dashed-wrapped {\n",
              "  border: 1px dashed var(--sklearn-color-line);\n",
              "  margin: 0 0.4em 0.5em 0.4em;\n",
              "  box-sizing: border-box;\n",
              "  padding-bottom: 0.4em;\n",
              "  background-color: var(--sklearn-color-background);\n",
              "}\n",
              "\n",
              "#sk-container-id-2 div.sk-container {\n",
              "  /* jupyter's `normalize.less` sets `[hidden] { display: none; }`\n",
              "     but bootstrap.min.css set `[hidden] { display: none !important; }`\n",
              "     so we also need the `!important` here to be able to override the\n",
              "     default hidden behavior on the sphinx rendered scikit-learn.org.\n",
              "     See: https://github.com/scikit-learn/scikit-learn/issues/21755 */\n",
              "  display: inline-block !important;\n",
              "  position: relative;\n",
              "}\n",
              "\n",
              "#sk-container-id-2 div.sk-text-repr-fallback {\n",
              "  display: none;\n",
              "}\n",
              "\n",
              "div.sk-parallel-item,\n",
              "div.sk-serial,\n",
              "div.sk-item {\n",
              "  /* draw centered vertical line to link estimators */\n",
              "  background-image: linear-gradient(var(--sklearn-color-text-on-default-background), var(--sklearn-color-text-on-default-background));\n",
              "  background-size: 2px 100%;\n",
              "  background-repeat: no-repeat;\n",
              "  background-position: center center;\n",
              "}\n",
              "\n",
              "/* Parallel-specific style estimator block */\n",
              "\n",
              "#sk-container-id-2 div.sk-parallel-item::after {\n",
              "  content: \"\";\n",
              "  width: 100%;\n",
              "  border-bottom: 2px solid var(--sklearn-color-text-on-default-background);\n",
              "  flex-grow: 1;\n",
              "}\n",
              "\n",
              "#sk-container-id-2 div.sk-parallel {\n",
              "  display: flex;\n",
              "  align-items: stretch;\n",
              "  justify-content: center;\n",
              "  background-color: var(--sklearn-color-background);\n",
              "  position: relative;\n",
              "}\n",
              "\n",
              "#sk-container-id-2 div.sk-parallel-item {\n",
              "  display: flex;\n",
              "  flex-direction: column;\n",
              "}\n",
              "\n",
              "#sk-container-id-2 div.sk-parallel-item:first-child::after {\n",
              "  align-self: flex-end;\n",
              "  width: 50%;\n",
              "}\n",
              "\n",
              "#sk-container-id-2 div.sk-parallel-item:last-child::after {\n",
              "  align-self: flex-start;\n",
              "  width: 50%;\n",
              "}\n",
              "\n",
              "#sk-container-id-2 div.sk-parallel-item:only-child::after {\n",
              "  width: 0;\n",
              "}\n",
              "\n",
              "/* Serial-specific style estimator block */\n",
              "\n",
              "#sk-container-id-2 div.sk-serial {\n",
              "  display: flex;\n",
              "  flex-direction: column;\n",
              "  align-items: center;\n",
              "  background-color: var(--sklearn-color-background);\n",
              "  padding-right: 1em;\n",
              "  padding-left: 1em;\n",
              "}\n",
              "\n",
              "\n",
              "/* Toggleable style: style used for estimator/Pipeline/ColumnTransformer box that is\n",
              "clickable and can be expanded/collapsed.\n",
              "- Pipeline and ColumnTransformer use this feature and define the default style\n",
              "- Estimators will overwrite some part of the style using the `sk-estimator` class\n",
              "*/\n",
              "\n",
              "/* Pipeline and ColumnTransformer style (default) */\n",
              "\n",
              "#sk-container-id-2 div.sk-toggleable {\n",
              "  /* Default theme specific background. It is overwritten whether we have a\n",
              "  specific estimator or a Pipeline/ColumnTransformer */\n",
              "  background-color: var(--sklearn-color-background);\n",
              "}\n",
              "\n",
              "/* Toggleable label */\n",
              "#sk-container-id-2 label.sk-toggleable__label {\n",
              "  cursor: pointer;\n",
              "  display: flex;\n",
              "  width: 100%;\n",
              "  margin-bottom: 0;\n",
              "  padding: 0.5em;\n",
              "  box-sizing: border-box;\n",
              "  text-align: center;\n",
              "  align-items: start;\n",
              "  justify-content: space-between;\n",
              "  gap: 0.5em;\n",
              "}\n",
              "\n",
              "#sk-container-id-2 label.sk-toggleable__label .caption {\n",
              "  font-size: 0.6rem;\n",
              "  font-weight: lighter;\n",
              "  color: var(--sklearn-color-text-muted);\n",
              "}\n",
              "\n",
              "#sk-container-id-2 label.sk-toggleable__label-arrow:before {\n",
              "  /* Arrow on the left of the label */\n",
              "  content: \"▸\";\n",
              "  float: left;\n",
              "  margin-right: 0.25em;\n",
              "  color: var(--sklearn-color-icon);\n",
              "}\n",
              "\n",
              "#sk-container-id-2 label.sk-toggleable__label-arrow:hover:before {\n",
              "  color: var(--sklearn-color-text);\n",
              "}\n",
              "\n",
              "/* Toggleable content - dropdown */\n",
              "\n",
              "#sk-container-id-2 div.sk-toggleable__content {\n",
              "  max-height: 0;\n",
              "  max-width: 0;\n",
              "  overflow: hidden;\n",
              "  text-align: left;\n",
              "  /* unfitted */\n",
              "  background-color: var(--sklearn-color-unfitted-level-0);\n",
              "}\n",
              "\n",
              "#sk-container-id-2 div.sk-toggleable__content.fitted {\n",
              "  /* fitted */\n",
              "  background-color: var(--sklearn-color-fitted-level-0);\n",
              "}\n",
              "\n",
              "#sk-container-id-2 div.sk-toggleable__content pre {\n",
              "  margin: 0.2em;\n",
              "  border-radius: 0.25em;\n",
              "  color: var(--sklearn-color-text);\n",
              "  /* unfitted */\n",
              "  background-color: var(--sklearn-color-unfitted-level-0);\n",
              "}\n",
              "\n",
              "#sk-container-id-2 div.sk-toggleable__content.fitted pre {\n",
              "  /* unfitted */\n",
              "  background-color: var(--sklearn-color-fitted-level-0);\n",
              "}\n",
              "\n",
              "#sk-container-id-2 input.sk-toggleable__control:checked~div.sk-toggleable__content {\n",
              "  /* Expand drop-down */\n",
              "  max-height: 200px;\n",
              "  max-width: 100%;\n",
              "  overflow: auto;\n",
              "}\n",
              "\n",
              "#sk-container-id-2 input.sk-toggleable__control:checked~label.sk-toggleable__label-arrow:before {\n",
              "  content: \"▾\";\n",
              "}\n",
              "\n",
              "/* Pipeline/ColumnTransformer-specific style */\n",
              "\n",
              "#sk-container-id-2 div.sk-label input.sk-toggleable__control:checked~label.sk-toggleable__label {\n",
              "  color: var(--sklearn-color-text);\n",
              "  background-color: var(--sklearn-color-unfitted-level-2);\n",
              "}\n",
              "\n",
              "#sk-container-id-2 div.sk-label.fitted input.sk-toggleable__control:checked~label.sk-toggleable__label {\n",
              "  background-color: var(--sklearn-color-fitted-level-2);\n",
              "}\n",
              "\n",
              "/* Estimator-specific style */\n",
              "\n",
              "/* Colorize estimator box */\n",
              "#sk-container-id-2 div.sk-estimator input.sk-toggleable__control:checked~label.sk-toggleable__label {\n",
              "  /* unfitted */\n",
              "  background-color: var(--sklearn-color-unfitted-level-2);\n",
              "}\n",
              "\n",
              "#sk-container-id-2 div.sk-estimator.fitted input.sk-toggleable__control:checked~label.sk-toggleable__label {\n",
              "  /* fitted */\n",
              "  background-color: var(--sklearn-color-fitted-level-2);\n",
              "}\n",
              "\n",
              "#sk-container-id-2 div.sk-label label.sk-toggleable__label,\n",
              "#sk-container-id-2 div.sk-label label {\n",
              "  /* The background is the default theme color */\n",
              "  color: var(--sklearn-color-text-on-default-background);\n",
              "}\n",
              "\n",
              "/* On hover, darken the color of the background */\n",
              "#sk-container-id-2 div.sk-label:hover label.sk-toggleable__label {\n",
              "  color: var(--sklearn-color-text);\n",
              "  background-color: var(--sklearn-color-unfitted-level-2);\n",
              "}\n",
              "\n",
              "/* Label box, darken color on hover, fitted */\n",
              "#sk-container-id-2 div.sk-label.fitted:hover label.sk-toggleable__label.fitted {\n",
              "  color: var(--sklearn-color-text);\n",
              "  background-color: var(--sklearn-color-fitted-level-2);\n",
              "}\n",
              "\n",
              "/* Estimator label */\n",
              "\n",
              "#sk-container-id-2 div.sk-label label {\n",
              "  font-family: monospace;\n",
              "  font-weight: bold;\n",
              "  display: inline-block;\n",
              "  line-height: 1.2em;\n",
              "}\n",
              "\n",
              "#sk-container-id-2 div.sk-label-container {\n",
              "  text-align: center;\n",
              "}\n",
              "\n",
              "/* Estimator-specific */\n",
              "#sk-container-id-2 div.sk-estimator {\n",
              "  font-family: monospace;\n",
              "  border: 1px dotted var(--sklearn-color-border-box);\n",
              "  border-radius: 0.25em;\n",
              "  box-sizing: border-box;\n",
              "  margin-bottom: 0.5em;\n",
              "  /* unfitted */\n",
              "  background-color: var(--sklearn-color-unfitted-level-0);\n",
              "}\n",
              "\n",
              "#sk-container-id-2 div.sk-estimator.fitted {\n",
              "  /* fitted */\n",
              "  background-color: var(--sklearn-color-fitted-level-0);\n",
              "}\n",
              "\n",
              "/* on hover */\n",
              "#sk-container-id-2 div.sk-estimator:hover {\n",
              "  /* unfitted */\n",
              "  background-color: var(--sklearn-color-unfitted-level-2);\n",
              "}\n",
              "\n",
              "#sk-container-id-2 div.sk-estimator.fitted:hover {\n",
              "  /* fitted */\n",
              "  background-color: var(--sklearn-color-fitted-level-2);\n",
              "}\n",
              "\n",
              "/* Specification for estimator info (e.g. \"i\" and \"?\") */\n",
              "\n",
              "/* Common style for \"i\" and \"?\" */\n",
              "\n",
              ".sk-estimator-doc-link,\n",
              "a:link.sk-estimator-doc-link,\n",
              "a:visited.sk-estimator-doc-link {\n",
              "  float: right;\n",
              "  font-size: smaller;\n",
              "  line-height: 1em;\n",
              "  font-family: monospace;\n",
              "  background-color: var(--sklearn-color-background);\n",
              "  border-radius: 1em;\n",
              "  height: 1em;\n",
              "  width: 1em;\n",
              "  text-decoration: none !important;\n",
              "  margin-left: 0.5em;\n",
              "  text-align: center;\n",
              "  /* unfitted */\n",
              "  border: var(--sklearn-color-unfitted-level-1) 1pt solid;\n",
              "  color: var(--sklearn-color-unfitted-level-1);\n",
              "}\n",
              "\n",
              ".sk-estimator-doc-link.fitted,\n",
              "a:link.sk-estimator-doc-link.fitted,\n",
              "a:visited.sk-estimator-doc-link.fitted {\n",
              "  /* fitted */\n",
              "  border: var(--sklearn-color-fitted-level-1) 1pt solid;\n",
              "  color: var(--sklearn-color-fitted-level-1);\n",
              "}\n",
              "\n",
              "/* On hover */\n",
              "div.sk-estimator:hover .sk-estimator-doc-link:hover,\n",
              ".sk-estimator-doc-link:hover,\n",
              "div.sk-label-container:hover .sk-estimator-doc-link:hover,\n",
              ".sk-estimator-doc-link:hover {\n",
              "  /* unfitted */\n",
              "  background-color: var(--sklearn-color-unfitted-level-3);\n",
              "  color: var(--sklearn-color-background);\n",
              "  text-decoration: none;\n",
              "}\n",
              "\n",
              "div.sk-estimator.fitted:hover .sk-estimator-doc-link.fitted:hover,\n",
              ".sk-estimator-doc-link.fitted:hover,\n",
              "div.sk-label-container:hover .sk-estimator-doc-link.fitted:hover,\n",
              ".sk-estimator-doc-link.fitted:hover {\n",
              "  /* fitted */\n",
              "  background-color: var(--sklearn-color-fitted-level-3);\n",
              "  color: var(--sklearn-color-background);\n",
              "  text-decoration: none;\n",
              "}\n",
              "\n",
              "/* Span, style for the box shown on hovering the info icon */\n",
              ".sk-estimator-doc-link span {\n",
              "  display: none;\n",
              "  z-index: 9999;\n",
              "  position: relative;\n",
              "  font-weight: normal;\n",
              "  right: .2ex;\n",
              "  padding: .5ex;\n",
              "  margin: .5ex;\n",
              "  width: min-content;\n",
              "  min-width: 20ex;\n",
              "  max-width: 50ex;\n",
              "  color: var(--sklearn-color-text);\n",
              "  box-shadow: 2pt 2pt 4pt #999;\n",
              "  /* unfitted */\n",
              "  background: var(--sklearn-color-unfitted-level-0);\n",
              "  border: .5pt solid var(--sklearn-color-unfitted-level-3);\n",
              "}\n",
              "\n",
              ".sk-estimator-doc-link.fitted span {\n",
              "  /* fitted */\n",
              "  background: var(--sklearn-color-fitted-level-0);\n",
              "  border: var(--sklearn-color-fitted-level-3);\n",
              "}\n",
              "\n",
              ".sk-estimator-doc-link:hover span {\n",
              "  display: block;\n",
              "}\n",
              "\n",
              "/* \"?\"-specific style due to the `<a>` HTML tag */\n",
              "\n",
              "#sk-container-id-2 a.estimator_doc_link {\n",
              "  float: right;\n",
              "  font-size: 1rem;\n",
              "  line-height: 1em;\n",
              "  font-family: monospace;\n",
              "  background-color: var(--sklearn-color-background);\n",
              "  border-radius: 1rem;\n",
              "  height: 1rem;\n",
              "  width: 1rem;\n",
              "  text-decoration: none;\n",
              "  /* unfitted */\n",
              "  color: var(--sklearn-color-unfitted-level-1);\n",
              "  border: var(--sklearn-color-unfitted-level-1) 1pt solid;\n",
              "}\n",
              "\n",
              "#sk-container-id-2 a.estimator_doc_link.fitted {\n",
              "  /* fitted */\n",
              "  border: var(--sklearn-color-fitted-level-1) 1pt solid;\n",
              "  color: var(--sklearn-color-fitted-level-1);\n",
              "}\n",
              "\n",
              "/* On hover */\n",
              "#sk-container-id-2 a.estimator_doc_link:hover {\n",
              "  /* unfitted */\n",
              "  background-color: var(--sklearn-color-unfitted-level-3);\n",
              "  color: var(--sklearn-color-background);\n",
              "  text-decoration: none;\n",
              "}\n",
              "\n",
              "#sk-container-id-2 a.estimator_doc_link.fitted:hover {\n",
              "  /* fitted */\n",
              "  background-color: var(--sklearn-color-fitted-level-3);\n",
              "}\n",
              "</style><div id=\"sk-container-id-2\" class=\"sk-top-container\"><div class=\"sk-text-repr-fallback\"><pre>RandomForestClassifier(max_depth=240,\n",
              "                       max_features=np.float64(0.8473019458277843),\n",
              "                       min_samples_split=6, n_estimators=282, random_state=123)</pre><b>In a Jupyter environment, please rerun this cell to show the HTML representation or trust the notebook. <br />On GitHub, the HTML representation is unable to render, please try loading this page with nbviewer.org.</b></div><div class=\"sk-container\" hidden><div class=\"sk-item\"><div class=\"sk-estimator fitted sk-toggleable\"><input class=\"sk-toggleable__control sk-hidden--visually\" id=\"sk-estimator-id-2\" type=\"checkbox\" checked><label for=\"sk-estimator-id-2\" class=\"sk-toggleable__label fitted sk-toggleable__label-arrow\"><div><div>RandomForestClassifier</div></div><div><a class=\"sk-estimator-doc-link fitted\" rel=\"noreferrer\" target=\"_blank\" href=\"https://scikit-learn.org/1.6/modules/generated/sklearn.ensemble.RandomForestClassifier.html\">?<span>Documentation for RandomForestClassifier</span></a><span class=\"sk-estimator-doc-link fitted\">i<span>Fitted</span></span></div></label><div class=\"sk-toggleable__content fitted\"><pre>RandomForestClassifier(max_depth=240,\n",
              "                       max_features=np.float64(0.8473019458277843),\n",
              "                       min_samples_split=6, n_estimators=282, random_state=123)</pre></div> </div></div></div></div>"
            ]
          },
          "metadata": {},
          "execution_count": 112
        }
      ]
    },
    {
      "cell_type": "code",
      "source": [
        "pred_rfc = rfc_hyp.predict(X_test)"
      ],
      "metadata": {
        "id": "4ev8tPlp01Ln"
      },
      "execution_count": 113,
      "outputs": []
    },
    {
      "cell_type": "code",
      "source": [
        "pred_rfc = pd.DataFrame(pred_rfc)"
      ],
      "metadata": {
        "id": "n-lwXPEz07y_"
      },
      "execution_count": 114,
      "outputs": []
    },
    {
      "cell_type": "code",
      "source": [
        "pred_rfc.rename(columns = {0:\"Label\"}, inplace=True)"
      ],
      "metadata": {
        "id": "Eea6SOwO0-cB"
      },
      "execution_count": 115,
      "outputs": []
    },
    {
      "cell_type": "code",
      "source": [
        "pred_rfc.value_counts()"
      ],
      "metadata": {
        "colab": {
          "base_uri": "https://localhost:8080/",
          "height": 178
        },
        "id": "zC_JLzKC0_C4",
        "outputId": "1fffdfdf-a897-436f-9f48-2b4a19c59d0e"
      },
      "execution_count": 116,
      "outputs": [
        {
          "output_type": "execute_result",
          "data": {
            "text/plain": [
              "Label\n",
              "0        1085\n",
              "1        1051\n",
              "Name: count, dtype: int64"
            ],
            "text/html": [
              "<div>\n",
              "<style scoped>\n",
              "    .dataframe tbody tr th:only-of-type {\n",
              "        vertical-align: middle;\n",
              "    }\n",
              "\n",
              "    .dataframe tbody tr th {\n",
              "        vertical-align: top;\n",
              "    }\n",
              "\n",
              "    .dataframe thead th {\n",
              "        text-align: right;\n",
              "    }\n",
              "</style>\n",
              "<table border=\"1\" class=\"dataframe\">\n",
              "  <thead>\n",
              "    <tr style=\"text-align: right;\">\n",
              "      <th></th>\n",
              "      <th>count</th>\n",
              "    </tr>\n",
              "    <tr>\n",
              "      <th>Label</th>\n",
              "      <th></th>\n",
              "    </tr>\n",
              "  </thead>\n",
              "  <tbody>\n",
              "    <tr>\n",
              "      <th>0</th>\n",
              "      <td>1085</td>\n",
              "    </tr>\n",
              "    <tr>\n",
              "      <th>1</th>\n",
              "      <td>1051</td>\n",
              "    </tr>\n",
              "  </tbody>\n",
              "</table>\n",
              "</div><br><label><b>dtype:</b> int64</label>"
            ]
          },
          "metadata": {},
          "execution_count": 116
        }
      ]
    },
    {
      "cell_type": "code",
      "source": [
        "import pickle\n",
        "\n",
        "# Save model to a pickle file\n",
        "with open('rfc_hyp.pkl', 'wb') as file:\n",
        "    pickle.dump(rfc_hyp, file)\n"
      ],
      "metadata": {
        "id": "ThuajlyU2thW"
      },
      "execution_count": 117,
      "outputs": []
    },
    {
      "cell_type": "code",
      "source": [
        "import joblib\n",
        "\n",
        "# Save model to a joblib file\n",
        "joblib.dump(rfc_hyp, 'rfc_hyp.joblib')\n"
      ],
      "metadata": {
        "colab": {
          "base_uri": "https://localhost:8080/"
        },
        "id": "wqwLAiKc4F1k",
        "outputId": "c1f0a5f9-d6d4-4b18-c660-d070baf8d96b"
      },
      "execution_count": 118,
      "outputs": [
        {
          "output_type": "execute_result",
          "data": {
            "text/plain": [
              "['rfc_hyp.joblib']"
            ]
          },
          "metadata": {},
          "execution_count": 118
        }
      ]
    },
    {
      "cell_type": "markdown",
      "source": [
        "### KNN Classifier - Using Bayesian Optimization"
      ],
      "metadata": {
        "id": "aiYLdQWT7Ojb"
      }
    },
    {
      "cell_type": "code",
      "source": [
        "from sklearn.neighbors import KNeighborsClassifier"
      ],
      "metadata": {
        "id": "3oRAJ3L07Bx8"
      },
      "execution_count": 119,
      "outputs": []
    },
    {
      "cell_type": "code",
      "source": [
        "# Hyperparameter-tuning: Bayesian Optimization, bayes_opt\n",
        "def knn_cl_bo(n_neighbors, weights, p):\n",
        "    params_knn = {}\n",
        "    weightsL = ['uniform', 'distance']\n",
        "\n",
        "    params_knn['n_neighbors'] = round(n_neighbors)\n",
        "    params_knn['weights'] = weightsL[round(weights)]\n",
        "    params_knn['p'] = round(p)\n",
        "\n",
        "    score = cross_val_score(KNeighborsClassifier(**params_knn),\n",
        "                             X_train, Y_train, cv=9, scoring=accuracy).mean()\n",
        "    return score"
      ],
      "metadata": {
        "id": "IMlDsN-X7VJx"
      },
      "execution_count": 120,
      "outputs": []
    },
    {
      "cell_type": "code",
      "source": [
        "# Set hyperparameters spaces\n",
        "params_knn ={\n",
        "    'n_neighbors':(3, 10),\n",
        "    'weights':(0, 1),\n",
        "    'p':(1, 2)}\n",
        "\n",
        "# Run Bayesian Optimization\n",
        "knn_bo = BayesianOptimization(knn_cl_bo, params_knn, random_state=111)\n",
        "knn_bo.maximize(init_points=4, n_iter=35)"
      ],
      "metadata": {
        "colab": {
          "base_uri": "https://localhost:8080/"
        },
        "id": "bduUEcnk7W3J",
        "outputId": "288beaaa-380f-47cf-b6f9-a7723ca9e532"
      },
      "execution_count": 121,
      "outputs": [
        {
          "output_type": "stream",
          "name": "stdout",
          "text": [
            "|   iter    |  target   | n_neig... |     p     |  weights  |\n",
            "-------------------------------------------------------------\n",
            "| \u001b[39m1        \u001b[39m | \u001b[39m-0.9254  \u001b[39m | \u001b[39m7.285    \u001b[39m | \u001b[39m1.169    \u001b[39m | \u001b[39m0.4361   \u001b[39m |\n",
            "| \u001b[39m2        \u001b[39m | \u001b[39m-0.9289  \u001b[39m | \u001b[39m8.385    \u001b[39m | \u001b[39m1.295    \u001b[39m | \u001b[39m0.1492   \u001b[39m |\n",
            "| \u001b[35m3        \u001b[39m | \u001b[35m-0.9165  \u001b[39m | \u001b[35m3.157    \u001b[39m | \u001b[35m1.42     \u001b[39m | \u001b[35m0.2387   \u001b[39m |\n",
            "| \u001b[39m4        \u001b[39m | \u001b[39m-0.9213  \u001b[39m | \u001b[39m5.364    \u001b[39m | \u001b[39m1.991    \u001b[39m | \u001b[39m0.2377   \u001b[39m |\n",
            "| \u001b[35m5        \u001b[39m | \u001b[35m-0.9163  \u001b[39m | \u001b[35m3.102    \u001b[39m | \u001b[35m1.057    \u001b[39m | \u001b[35m0.9962   \u001b[39m |\n",
            "| \u001b[39m6        \u001b[39m | \u001b[39m-0.9184  \u001b[39m | \u001b[39m3.036    \u001b[39m | \u001b[39m1.85     \u001b[39m | \u001b[39m0.9653   \u001b[39m |\n",
            "| \u001b[39m7        \u001b[39m | \u001b[39m-0.9216  \u001b[39m | \u001b[39m3.872    \u001b[39m | \u001b[39m1.003    \u001b[39m | \u001b[39m0.08092  \u001b[39m |\n",
            "| \u001b[39m8        \u001b[39m | \u001b[39m-0.9185  \u001b[39m | \u001b[39m3.039    \u001b[39m | \u001b[39m1.978    \u001b[39m | \u001b[39m0.08066  \u001b[39m |\n",
            "| \u001b[39m9        \u001b[39m | \u001b[39m-0.9253  \u001b[39m | \u001b[39m9.987    \u001b[39m | \u001b[39m1.842    \u001b[39m | \u001b[39m0.9445   \u001b[39m |\n",
            "| \u001b[39m10       \u001b[39m | \u001b[39m-0.9165  \u001b[39m | \u001b[39m3.014    \u001b[39m | \u001b[39m1.027    \u001b[39m | \u001b[39m0.05375  \u001b[39m |\n",
            "| \u001b[39m11       \u001b[39m | \u001b[39m-0.9163  \u001b[39m | \u001b[39m3.001    \u001b[39m | \u001b[39m1.047    \u001b[39m | \u001b[39m0.6408   \u001b[39m |\n",
            "| \u001b[39m12       \u001b[39m | \u001b[39m-0.9203  \u001b[39m | \u001b[39m4.253    \u001b[39m | \u001b[39m1.977    \u001b[39m | \u001b[39m0.9818   \u001b[39m |\n",
            "| \u001b[39m13       \u001b[39m | \u001b[39m-0.9231  \u001b[39m | \u001b[39m5.442    \u001b[39m | \u001b[39m1.016    \u001b[39m | \u001b[39m0.9898   \u001b[39m |\n",
            "| \u001b[39m14       \u001b[39m | \u001b[39m-0.9183  \u001b[39m | \u001b[39m3.628    \u001b[39m | \u001b[39m1.039    \u001b[39m | \u001b[39m0.9841   \u001b[39m |\n",
            "| \u001b[39m15       \u001b[39m | \u001b[39m-0.9165  \u001b[39m | \u001b[39m3.013    \u001b[39m | \u001b[39m1.445    \u001b[39m | \u001b[39m0.03837  \u001b[39m |\n",
            "| \u001b[39m16       \u001b[39m | \u001b[39m-0.9163  \u001b[39m | \u001b[39m3.001    \u001b[39m | \u001b[39m1.295    \u001b[39m | \u001b[39m0.6286   \u001b[39m |\n",
            "| \u001b[39m17       \u001b[39m | \u001b[39m-0.9165  \u001b[39m | \u001b[39m3.01     \u001b[39m | \u001b[39m1.278    \u001b[39m | \u001b[39m0.4024   \u001b[39m |\n",
            "| \u001b[39m18       \u001b[39m | \u001b[39m-0.9236  \u001b[39m | \u001b[39m6.135    \u001b[39m | \u001b[39m1.996    \u001b[39m | \u001b[39m0.9949   \u001b[39m |\n",
            "| \u001b[39m19       \u001b[39m | \u001b[39m-0.9203  \u001b[39m | \u001b[39m3.829    \u001b[39m | \u001b[39m1.987    \u001b[39m | \u001b[39m0.01178  \u001b[39m |\n",
            "| \u001b[39m20       \u001b[39m | \u001b[39m-0.9163  \u001b[39m | \u001b[39m3.255    \u001b[39m | \u001b[39m1.332    \u001b[39m | \u001b[39m0.8232   \u001b[39m |\n",
            "| \u001b[39m21       \u001b[39m | \u001b[39m-0.9163  \u001b[39m | \u001b[39m3.034    \u001b[39m | \u001b[39m1.29     \u001b[39m | \u001b[39m0.9694   \u001b[39m |\n",
            "| \u001b[39m22       \u001b[39m | \u001b[39m-0.9163  \u001b[39m | \u001b[39m3.161    \u001b[39m | \u001b[39m1.158    \u001b[39m | \u001b[39m0.7382   \u001b[39m |\n",
            "| \u001b[39m23       \u001b[39m | \u001b[39m-0.9163  \u001b[39m | \u001b[39m3.018    \u001b[39m | \u001b[39m1.043    \u001b[39m | \u001b[39m0.9541   \u001b[39m |\n",
            "| \u001b[39m24       \u001b[39m | \u001b[39m-0.9163  \u001b[39m | \u001b[39m3.09     \u001b[39m | \u001b[39m1.202    \u001b[39m | \u001b[39m0.8531   \u001b[39m |\n",
            "| \u001b[39m25       \u001b[39m | \u001b[39m-0.9184  \u001b[39m | \u001b[39m3.292    \u001b[39m | \u001b[39m1.512    \u001b[39m | \u001b[39m0.5865   \u001b[39m |\n",
            "| \u001b[39m26       \u001b[39m | \u001b[39m-0.9298  \u001b[39m | \u001b[39m9.999    \u001b[39m | \u001b[39m1.137    \u001b[39m | \u001b[39m0.02749  \u001b[39m |\n",
            "| \u001b[39m27       \u001b[39m | \u001b[39m-0.9268  \u001b[39m | \u001b[39m5.845    \u001b[39m | \u001b[39m1.002    \u001b[39m | \u001b[39m0.01513  \u001b[39m |\n",
            "| \u001b[39m28       \u001b[39m | \u001b[39m-0.9213  \u001b[39m | \u001b[39m5.115    \u001b[39m | \u001b[39m1.984    \u001b[39m | \u001b[39m0.9759   \u001b[39m |\n",
            "| \u001b[39m29       \u001b[39m | \u001b[39m-0.9165  \u001b[39m | \u001b[39m3.276    \u001b[39m | \u001b[39m1.249    \u001b[39m | \u001b[39m0.004045 \u001b[39m |\n",
            "| \u001b[39m30       \u001b[39m | \u001b[39m-0.9239  \u001b[39m | \u001b[39m7.826    \u001b[39m | \u001b[39m1.994    \u001b[39m | \u001b[39m0.9789   \u001b[39m |\n",
            "| \u001b[39m31       \u001b[39m | \u001b[39m-0.9219  \u001b[39m | \u001b[39m6.783    \u001b[39m | \u001b[39m1.982    \u001b[39m | \u001b[39m0.00713  \u001b[39m |\n",
            "| \u001b[39m32       \u001b[39m | \u001b[39m-0.9163  \u001b[39m | \u001b[39m3.489    \u001b[39m | \u001b[39m1.401    \u001b[39m | \u001b[39m0.98     \u001b[39m |\n",
            "| \u001b[39m33       \u001b[39m | \u001b[39m-0.9165  \u001b[39m | \u001b[39m3.263    \u001b[39m | \u001b[39m1.031    \u001b[39m | \u001b[39m0.2814   \u001b[39m |\n",
            "| \u001b[39m34       \u001b[39m | \u001b[39m-0.9163  \u001b[39m | \u001b[39m3.283    \u001b[39m | \u001b[39m1.473    \u001b[39m | \u001b[39m0.9965   \u001b[39m |\n",
            "| \u001b[39m35       \u001b[39m | \u001b[39m-0.9163  \u001b[39m | \u001b[39m3.273    \u001b[39m | \u001b[39m1.268    \u001b[39m | \u001b[39m0.9982   \u001b[39m |\n",
            "| \u001b[39m36       \u001b[39m | \u001b[39m-0.9213  \u001b[39m | \u001b[39m4.628    \u001b[39m | \u001b[39m1.985    \u001b[39m | \u001b[39m0.03862  \u001b[39m |\n",
            "| \u001b[39m37       \u001b[39m | \u001b[39m-0.9185  \u001b[39m | \u001b[39m3.222    \u001b[39m | \u001b[39m1.557    \u001b[39m | \u001b[39m0.01112  \u001b[39m |\n",
            "| \u001b[39m38       \u001b[39m | \u001b[39m-0.9203  \u001b[39m | \u001b[39m3.744    \u001b[39m | \u001b[39m1.987    \u001b[39m | \u001b[39m0.996    \u001b[39m |\n",
            "| \u001b[39m39       \u001b[39m | \u001b[39m-0.9231  \u001b[39m | \u001b[39m4.515    \u001b[39m | \u001b[39m1.074    \u001b[39m | \u001b[39m0.9998   \u001b[39m |\n",
            "=============================================================\n"
          ]
        }
      ]
    },
    {
      "cell_type": "code",
      "source": [
        "# Best hyperparameters\n",
        "params_knn = knn_bo.max['params']\n",
        "weightsL = ['uniform', 'distance']\n",
        "params_knn['n_neighbors'] = round(params_knn['n_neighbors'])\n",
        "params_knn['weights'] = weightsL[round(params_knn['weights'])]\n",
        "params_knn['p'] = round(params_knn['p'])\n",
        "params_knn"
      ],
      "metadata": {
        "colab": {
          "base_uri": "https://localhost:8080/"
        },
        "id": "aq3eYYc-7Y9P",
        "outputId": "80c67c57-f399-4a58-9c06-feec3fa0a531"
      },
      "execution_count": 122,
      "outputs": [
        {
          "output_type": "execute_result",
          "data": {
            "text/plain": [
              "{'n_neighbors': 3, 'p': 1, 'weights': 'distance'}"
            ]
          },
          "metadata": {},
          "execution_count": 122
        }
      ]
    },
    {
      "cell_type": "code",
      "source": [
        "# Fit the training data\n",
        "knn_hyp = KNeighborsClassifier(**params_knn)\n",
        "knn_hyp.fit(X_train, Y_train)\n",
        "\n",
        "# Predict the validation data\n",
        "pred_knn = knn_hyp.predict(X_test)\n",
        "\n",
        "# Compute the accuracy\n",
        "print('Accuracy: ' + str(accuracy_score(Y_test, pred_knn)))"
      ],
      "metadata": {
        "colab": {
          "base_uri": "https://localhost:8080/"
        },
        "id": "u6BlIybY7bd6",
        "outputId": "7fa00bad-1689-4e2d-e974-3c185f8d463c"
      },
      "execution_count": 123,
      "outputs": [
        {
          "output_type": "stream",
          "name": "stdout",
          "text": [
            "Accuracy: 0.9241573033707865\n"
          ]
        }
      ]
    },
    {
      "cell_type": "code",
      "source": [
        "import pickle\n",
        "\n",
        "# Save model to a pickle file\n",
        "with open('knn_hyp.pkl', 'wb') as file:\n",
        "    pickle.dump(knn_hyp, file)\n"
      ],
      "metadata": {
        "id": "EcjCULFf7eAB"
      },
      "execution_count": 124,
      "outputs": []
    },
    {
      "cell_type": "code",
      "source": [
        "import joblib\n",
        "\n",
        "# Save model to a joblib file\n",
        "joblib.dump(knn_hyp, 'knn_hyp.joblib')\n"
      ],
      "metadata": {
        "colab": {
          "base_uri": "https://localhost:8080/"
        },
        "id": "uE34IRfL7p7v",
        "outputId": "d3003904-636a-4b72-91e4-f4acae6b169c"
      },
      "execution_count": 125,
      "outputs": [
        {
          "output_type": "execute_result",
          "data": {
            "text/plain": [
              "['knn_hyp.joblib']"
            ]
          },
          "metadata": {},
          "execution_count": 125
        }
      ]
    }
  ]
}